{
 "cells": [
  {
   "cell_type": "code",
   "execution_count": 1,
   "outputs": [
    {
     "name": "stderr",
     "output_type": "stream",
     "text": [
      "2024-03-27 19:32:21.442526: I tensorflow/core/platform/cpu_feature_guard.cc:193] This TensorFlow binary is optimized with oneAPI Deep Neural Network Library (oneDNN) to use the following CPU instructions in performance-critical operations:  AVX2 FMA\n",
      "To enable them in other operations, rebuild TensorFlow with the appropriate compiler flags.\n"
     ]
    }
   ],
   "source": [
    "from preprocessing import *\n",
    "import numpy as np\n",
    "import matplotlib.pyplot as plt\n",
    "import os\n",
    "from tqdm import tqdm\n",
    "import tensorflow as tf"
   ],
   "metadata": {
    "collapsed": false,
    "ExecuteTime": {
     "end_time": "2024-03-27T14:02:22.686376143Z",
     "start_time": "2024-03-27T14:02:20.846934869Z"
    }
   },
   "id": "initial_id"
  },
  {
   "cell_type": "code",
   "execution_count": 2,
   "outputs": [
    {
     "name": "stderr",
     "output_type": "stream",
     "text": [
      "100%|██████████| 16/16 [00:07<00:00,  2.10it/s]\n"
     ]
    }
   ],
   "source": [
    "parent_dir = './Data/In-lab/'\n",
    "paths = sorted(list(os.listdir(parent_dir)))\n",
    "# paths = ['P2']\n",
    "data = []\n",
    "interval_duration = 0.5\n",
    "vec_size = int(15_000 * interval_duration)\n",
    "\n",
    "for path in tqdm(paths):\n",
    "    temp = get_data(parent_dir+path, interval_duration=interval_duration)\n",
    "    dataX = temp[:, :vec_size].astype(float)    \n",
    "    remaining = temp[:, vec_size:]\n",
    "\n",
    "    dataX -= dataX.mean()\n",
    "    dataX /= np.std(dataX)\n",
    "    temp = np.concatenate([dataX, remaining], axis=1)\n",
    "    data.append(temp)\n",
    "data = np.concatenate(data, axis=0)"
   ],
   "metadata": {
    "collapsed": false,
    "ExecuteTime": {
     "end_time": "2024-03-27T14:02:30.624494235Z",
     "start_time": "2024-03-27T14:02:22.691186563Z"
    }
   },
   "id": "e9df8f718efd332d"
  },
  {
   "cell_type": "code",
   "execution_count": 3,
   "outputs": [
    {
     "data": {
      "text/plain": "(3274, 7516)"
     },
     "execution_count": 3,
     "metadata": {},
     "output_type": "execute_result"
    }
   ],
   "source": [
    "data.shape"
   ],
   "metadata": {
    "collapsed": false,
    "ExecuteTime": {
     "end_time": "2024-03-27T14:02:30.634410926Z",
     "start_time": "2024-03-27T14:02:30.624775697Z"
    }
   },
   "id": "e56248d83d7abd7"
  },
  {
   "cell_type": "code",
   "execution_count": 4,
   "outputs": [],
   "source": [
    "dataX = data[:, :vec_size].astype(float)\n",
    "dataY = data[:, -1].astype(float)"
   ],
   "metadata": {
    "collapsed": false,
    "ExecuteTime": {
     "end_time": "2024-03-27T14:02:31.160574109Z",
     "start_time": "2024-03-27T14:02:30.628443018Z"
    }
   },
   "id": "be4cc576ad3acda3"
  },
  {
   "cell_type": "code",
   "execution_count": 5,
   "outputs": [],
   "source": [
    "from sklearn.model_selection import train_test_split\n",
    "\n",
    "trainX, valX, trainY, valY = train_test_split(dataX, dataY)"
   ],
   "metadata": {
    "collapsed": false,
    "ExecuteTime": {
     "end_time": "2024-03-27T14:02:31.368950891Z",
     "start_time": "2024-03-27T14:02:31.163168660Z"
    }
   },
   "id": "1266fca23356fc6b"
  },
  {
   "cell_type": "code",
   "execution_count": 6,
   "outputs": [
    {
     "data": {
      "text/plain": "(2455, 7500)"
     },
     "execution_count": 6,
     "metadata": {},
     "output_type": "execute_result"
    }
   ],
   "source": [
    "trainX.shape"
   ],
   "metadata": {
    "collapsed": false,
    "ExecuteTime": {
     "end_time": "2024-03-27T14:02:31.374742588Z",
     "start_time": "2024-03-27T14:02:31.370117458Z"
    }
   },
   "id": "fc44887f7074d8a6"
  },
  {
   "cell_type": "markdown",
   "source": [
    "plt.figure(figsize=(20, 6))\n",
    "plt.plot(np.arange(trainX[0, :1000].size), trainX[0, :1000])\n",
    "plt.show()"
   ],
   "metadata": {
    "collapsed": false
   },
   "id": "fb2359c2480384e5"
  },
  {
   "cell_type": "code",
   "execution_count": 7,
   "outputs": [],
   "source": [
    "from model import get_model\n",
    "import tensorflow.keras as keras\n"
   ],
   "metadata": {
    "collapsed": false,
    "ExecuteTime": {
     "end_time": "2024-03-27T14:02:31.389049182Z",
     "start_time": "2024-03-27T14:02:31.376188941Z"
    }
   },
   "id": "350b26e00f155ef1"
  },
  {
   "cell_type": "code",
   "execution_count": 8,
   "outputs": [
    {
     "name": "stdout",
     "output_type": "stream",
     "text": [
      "Model: \"sequential\"\n",
      "_________________________________________________________________\n",
      " Layer (type)                Output Shape              Param #   \n",
      "=================================================================\n",
      " batch_normalization (BatchN  (None, 7500, 1)          4         \n",
      " ormalization)                                                   \n",
      "                                                                 \n",
      " conv1d (Conv1D)             (None, 7498, 4)           16        \n",
      "                                                                 \n",
      " conv1d_1 (Conv1D)           (None, 7496, 8)           104       \n",
      "                                                                 \n",
      " conv1d_2 (Conv1D)           (None, 7494, 16)          400       \n",
      "                                                                 \n",
      " batch_normalization_1 (Batc  (None, 7494, 16)         64        \n",
      " hNormalization)                                                 \n",
      "                                                                 \n",
      " conv1d_3 (Conv1D)           (None, 7492, 32)          1568      \n",
      "                                                                 \n",
      " conv1d_4 (Conv1D)           (None, 7490, 64)          6208      \n",
      "                                                                 \n",
      " conv1d_5 (Conv1D)           (None, 7488, 128)         24704     \n",
      "                                                                 \n",
      " global_average_pooling1d (G  (None, 128)              0         \n",
      " lobalAveragePooling1D)                                          \n",
      "                                                                 \n",
      " dense (Dense)               (None, 24)                3096      \n",
      "                                                                 \n",
      " dropout (Dropout)           (None, 24)                0         \n",
      "                                                                 \n",
      " dense_1 (Dense)             (None, 4)                 100       \n",
      "                                                                 \n",
      " dense_2 (Dense)             (None, 1)                 5         \n",
      "                                                                 \n",
      "=================================================================\n",
      "Total params: 36,269\n",
      "Trainable params: 36,235\n",
      "Non-trainable params: 34\n",
      "_________________________________________________________________\n"
     ]
    },
    {
     "name": "stderr",
     "output_type": "stream",
     "text": [
      "2024-03-27 19:32:31.394024: I tensorflow/core/platform/cpu_feature_guard.cc:193] This TensorFlow binary is optimized with oneAPI Deep Neural Network Library (oneDNN) to use the following CPU instructions in performance-critical operations:  AVX2 FMA\n",
      "To enable them in other operations, rebuild TensorFlow with the appropriate compiler flags.\n"
     ]
    }
   ],
   "source": [
    "model = get_model(input_size=vec_size)\n",
    "\n",
    "model.compile(optimizer=tf.keras.optimizers.Adam(learning_rate=1e-3),\n",
    "              loss=keras.losses.BinaryCrossentropy(),\n",
    "              metrics=['accuracy'],\n",
    "              )\n",
    "model.summary()\n"
   ],
   "metadata": {
    "collapsed": false,
    "ExecuteTime": {
     "end_time": "2024-03-27T14:02:31.599934610Z",
     "start_time": "2024-03-27T14:02:31.392377491Z"
    }
   },
   "id": "e477f12efecac5ab"
  },
  {
   "cell_type": "code",
   "execution_count": 9,
   "outputs": [],
   "source": [
    "from sklearn.utils import class_weight\n",
    "\n",
    "weights = class_weight.compute_class_weight('balanced',\n",
    "                                            classes=np.unique(trainY),\n",
    "                                            y=trainY)\n",
    "weights = {\n",
    "    0: weights[0],\n",
    "    1: weights[1]\n",
    "}\n"
   ],
   "metadata": {
    "collapsed": false,
    "ExecuteTime": {
     "end_time": "2024-03-27T14:02:31.600131215Z",
     "start_time": "2024-03-27T14:02:31.599355413Z"
    }
   },
   "id": "e5654c091b9a9f0a"
  },
  {
   "cell_type": "code",
   "execution_count": null,
   "outputs": [
    {
     "name": "stdout",
     "output_type": "stream",
     "text": [
      "Epoch 1/100\n",
      "77/77 [==============================] - 37s 458ms/step - loss: 0.6718 - accuracy: 0.5507 - val_loss: 0.7001 - val_accuracy: 0.3907\n",
      "Epoch 2/100\n",
      "77/77 [==============================] - 35s 459ms/step - loss: 0.6634 - accuracy: 0.5393 - val_loss: 0.6866 - val_accuracy: 0.4884\n",
      "Epoch 3/100\n",
      "77/77 [==============================] - 35s 461ms/step - loss: 0.6581 - accuracy: 0.5462 - val_loss: 0.6908 - val_accuracy: 0.4737\n",
      "Epoch 4/100\n",
      "77/77 [==============================] - 36s 463ms/step - loss: 0.6628 - accuracy: 0.5756 - val_loss: 0.6784 - val_accuracy: 0.5238\n",
      "Epoch 5/100\n",
      "77/77 [==============================] - 36s 462ms/step - loss: 0.6520 - accuracy: 0.5703 - val_loss: 0.7000 - val_accuracy: 0.4847\n",
      "Epoch 6/100\n",
      "77/77 [==============================] - 36s 466ms/step - loss: 0.6534 - accuracy: 0.5597 - val_loss: 0.6886 - val_accuracy: 0.4628\n",
      "Epoch 7/100\n",
      "77/77 [==============================] - 36s 470ms/step - loss: 0.6536 - accuracy: 0.5804 - val_loss: 0.6981 - val_accuracy: 0.4872\n",
      "Epoch 8/100\n",
      "31/77 [===========>..................] - ETA: 19s - loss: 0.6601 - accuracy: 0.5766"
     ]
    }
   ],
   "source": [
    "reduce_lr = tf.keras.callbacks.ReduceLROnPlateau(monitor='val_loss', factor=0.5,\n",
    "                              patience=5, min_lr=1e-7, min_delta=1e-4)\n",
    "\n",
    "history = model.fit(trainX, trainY, validation_data=(valX, valY), verbose=1, epochs=100, class_weight=weights)#, callbacks=[reduce_lr])"
   ],
   "metadata": {
    "collapsed": false,
    "ExecuteTime": {
     "start_time": "2024-03-27T14:02:31.599436918Z"
    }
   },
   "id": "d5d9e5f7909e5d58"
  },
  {
   "cell_type": "code",
   "execution_count": null,
   "outputs": [],
   "source": [
    "model.predict(trainX[:10]), trainY[:10]"
   ],
   "metadata": {
    "collapsed": false
   },
   "id": "ebfa74e9e2895254"
  },
  {
   "cell_type": "code",
   "execution_count": null,
   "outputs": [],
   "source": [
    "plt.plot(np.arange(1500), trainX[1, :1500])\n",
    "plt.show()"
   ],
   "metadata": {
    "collapsed": false
   },
   "id": "5895d1189e057443"
  },
  {
   "cell_type": "code",
   "execution_count": null,
   "outputs": [],
   "source": [
    "plt.plot(np.arange(200), valX[1, :200])\n",
    "plt.show()"
   ],
   "metadata": {
    "collapsed": false
   },
   "id": "b956ac22468780b9"
  },
  {
   "cell_type": "code",
   "execution_count": null,
   "outputs": [],
   "source": [],
   "metadata": {
    "collapsed": false
   },
   "id": "4ea1b6a3ee1ad114"
  }
 ],
 "metadata": {
  "kernelspec": {
   "display_name": "Python 3",
   "language": "python",
   "name": "python3"
  },
  "language_info": {
   "codemirror_mode": {
    "name": "ipython",
    "version": 2
   },
   "file_extension": ".py",
   "mimetype": "text/x-python",
   "name": "python",
   "nbconvert_exporter": "python",
   "pygments_lexer": "ipython2",
   "version": "2.7.6"
  }
 },
 "nbformat": 4,
 "nbformat_minor": 5
}
