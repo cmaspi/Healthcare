{
 "cells": [
  {
   "cell_type": "code",
   "execution_count": 6,
   "id": "initial_id",
   "metadata": {
    "collapsed": true,
    "ExecuteTime": {
     "end_time": "2024-03-27T09:01:45.792103261Z",
     "start_time": "2024-03-27T09:01:45.775802044Z"
    }
   },
   "outputs": [],
   "source": [
    "from preprocessing import *\n",
    "import numpy as np\n",
    "import matplotlib.pyplot as plt\n",
    "import os\n",
    "from tqdm import tqdm"
   ]
  },
  {
   "cell_type": "code",
   "execution_count": 7,
   "outputs": [
    {
     "name": "stderr",
     "output_type": "stream",
     "text": [
      "100%|██████████| 16/16 [00:06<00:00,  2.63it/s]\n"
     ]
    }
   ],
   "source": [
    "parent_dir = './Data/In-lab/'\n",
    "paths = sorted(list(os.listdir(parent_dir)))\n",
    "data = []\n",
    "for path in tqdm(paths):\n",
    "    data.append(get_data(parent_dir+path))\n",
    "data = np.concatenate(data, axis=0)"
   ],
   "metadata": {
    "collapsed": false,
    "ExecuteTime": {
     "end_time": "2024-03-27T09:01:52.529674542Z",
     "start_time": "2024-03-27T09:01:45.944950990Z"
    }
   },
   "id": "e9df8f718efd332d"
  },
  {
   "cell_type": "code",
   "execution_count": 8,
   "outputs": [
    {
     "data": {
      "text/plain": "(1509, 15016)"
     },
     "execution_count": 8,
     "metadata": {},
     "output_type": "execute_result"
    }
   ],
   "source": [
    "data.shape"
   ],
   "metadata": {
    "collapsed": false,
    "ExecuteTime": {
     "end_time": "2024-03-27T09:01:57.257646988Z",
     "start_time": "2024-03-27T09:01:57.207181573Z"
    }
   },
   "id": "e56248d83d7abd7"
  },
  {
   "cell_type": "code",
   "execution_count": null,
   "outputs": [],
   "source": [],
   "metadata": {
    "collapsed": false
   },
   "id": "5b23490e84abd642"
  }
 ],
 "metadata": {
  "kernelspec": {
   "display_name": "Python 3",
   "language": "python",
   "name": "python3"
  },
  "language_info": {
   "codemirror_mode": {
    "name": "ipython",
    "version": 2
   },
   "file_extension": ".py",
   "mimetype": "text/x-python",
   "name": "python",
   "nbconvert_exporter": "python",
   "pygments_lexer": "ipython2",
   "version": "2.7.6"
  }
 },
 "nbformat": 4,
 "nbformat_minor": 5
}
