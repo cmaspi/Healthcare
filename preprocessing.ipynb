{
 "cells": [
  {
   "cell_type": "code",
   "execution_count": 1,
   "metadata": {
    "ExecuteTime": {
     "end_time": "2024-03-27T08:28:21.092443335Z",
     "start_time": "2024-03-27T08:28:20.647037341Z"
    }
   },
   "outputs": [],
   "source": [
    "import pandas as pd\n",
    "import numpy as np\n",
    "import matplotlib.pyplot as plt"
   ]
  },
  {
   "cell_type": "code",
   "execution_count": 2,
   "metadata": {
    "ExecuteTime": {
     "end_time": "2024-03-27T08:28:23.067227772Z",
     "start_time": "2024-03-27T08:28:22.733665559Z"
    }
   },
   "outputs": [
    {
     "data": {
      "text/plain": "   Timestamp (ms)  Sample (V)\n0   1502302358748    0.023138\n1   1502302358752    0.014534\n2   1502302358756    0.010558\n3   1502302358760    0.008459\n4   1502302358764    0.007813",
      "text/html": "<div>\n<style scoped>\n    .dataframe tbody tr th:only-of-type {\n        vertical-align: middle;\n    }\n\n    .dataframe tbody tr th {\n        vertical-align: top;\n    }\n\n    .dataframe thead th {\n        text-align: right;\n    }\n</style>\n<table border=\"1\" class=\"dataframe\">\n  <thead>\n    <tr style=\"text-align: right;\">\n      <th></th>\n      <th>Timestamp (ms)</th>\n      <th>Sample (V)</th>\n    </tr>\n  </thead>\n  <tbody>\n    <tr>\n      <th>0</th>\n      <td>1502302358748</td>\n      <td>0.023138</td>\n    </tr>\n    <tr>\n      <th>1</th>\n      <td>1502302358752</td>\n      <td>0.014534</td>\n    </tr>\n    <tr>\n      <th>2</th>\n      <td>1502302358756</td>\n      <td>0.010558</td>\n    </tr>\n    <tr>\n      <th>3</th>\n      <td>1502302358760</td>\n      <td>0.008459</td>\n    </tr>\n    <tr>\n      <th>4</th>\n      <td>1502302358764</td>\n      <td>0.007813</td>\n    </tr>\n  </tbody>\n</table>\n</div>"
     },
     "execution_count": 2,
     "metadata": {},
     "output_type": "execute_result"
    }
   ],
   "source": [
    "df_full = pd.read_csv('Data/In-lab/P5/elec.csv')\n",
    "\n",
    "df_full.head()"
   ]
  },
  {
   "cell_type": "code",
   "execution_count": 39,
   "outputs": [
    {
     "data": {
      "text/plain": "0     NaN\n1     NaN\n2     NaN\n3     NaN\n4     NaN\n       ..\n191   NaN\n192   NaN\n193   NaN\n194   NaN\n195   NaN\nName: EventType, Length: 196, dtype: float64"
     },
     "execution_count": 39,
     "metadata": {},
     "output_type": "execute_result"
    }
   ],
   "source": [
    "df_ema['EventType']"
   ],
   "metadata": {
    "collapsed": false,
    "ExecuteTime": {
     "end_time": "2024-03-27T08:59:51.091280774Z",
     "start_time": "2024-03-27T08:59:51.039778643Z"
    }
   }
  },
  {
   "cell_type": "code",
   "execution_count": 38,
   "outputs": [
    {
     "data": {
      "text/plain": "Empty DataFrame\nColumns: [Start, End, mean, standard deviation, min, max, median, mode, skew, Kurtosis, 80_percentile, 60_percentile, 40_percentile, 20_percentile, RMS, IQR, count>mean, count<mean, range, COV_M, pNN50, pNN20, RMSSD, nn50, nn20, SDSD, zcross, Lf, MF, HF, Lf/HF, Count, EventType, Did you experience anything stressful?, How stressed were you feeling?, Did you feel you could not control important things?, Did you feel confident in your ability to handle problems?, Did you feel things are going your way?, Did you feel difficulties piling up so you cannot overcome them?, How happy were you feeling?, How excited were you feeling?, How content were you feeling?, How worried were you feeling?, How irritable/angry were you feeling?, How sad were you feeling?, PSS, Induction]\nIndex: []\n\n[0 rows x 47 columns]",
      "text/html": "<div>\n<style scoped>\n    .dataframe tbody tr th:only-of-type {\n        vertical-align: middle;\n    }\n\n    .dataframe tbody tr th {\n        vertical-align: top;\n    }\n\n    .dataframe thead th {\n        text-align: right;\n    }\n</style>\n<table border=\"1\" class=\"dataframe\">\n  <thead>\n    <tr style=\"text-align: right;\">\n      <th></th>\n      <th>Start</th>\n      <th>End</th>\n      <th>mean</th>\n      <th>standard deviation</th>\n      <th>min</th>\n      <th>max</th>\n      <th>median</th>\n      <th>mode</th>\n      <th>skew</th>\n      <th>Kurtosis</th>\n      <th>...</th>\n      <th>Did you feel things are going your way?</th>\n      <th>Did you feel difficulties piling up so you cannot overcome them?</th>\n      <th>How happy were you feeling?</th>\n      <th>How excited were you feeling?</th>\n      <th>How content were you feeling?</th>\n      <th>How worried were you feeling?</th>\n      <th>How irritable/angry were you feeling?</th>\n      <th>How sad were you feeling?</th>\n      <th>PSS</th>\n      <th>Induction</th>\n    </tr>\n  </thead>\n  <tbody>\n  </tbody>\n</table>\n<p>0 rows × 47 columns</p>\n</div>"
     },
     "execution_count": 38,
     "metadata": {},
     "output_type": "execute_result"
    }
   ],
   "source": [
    "df_ema = pd.read_csv('Data/In-lab/P9/labeledfeatures.csv')\n",
    "\n",
    "df_ema[~df_ema['EventType'].isna()]"
   ],
   "metadata": {
    "collapsed": false,
    "ExecuteTime": {
     "end_time": "2024-03-27T08:59:39.384989082Z",
     "start_time": "2024-03-27T08:59:39.327975049Z"
    }
   }
  },
  {
   "cell_type": "code",
   "execution_count": 40,
   "outputs": [
    {
     "data": {
      "text/plain": "            Start           End         mean  standard deviation    min  \\\n0    1.503079e+12  1.503079e+12   909.137931          128.072777  392.0   \n1    1.503079e+12  1.503079e+12   947.193548          109.508998  685.0   \n2    1.503079e+12  1.503079e+12  1009.040816           86.736514  629.0   \n3    1.503079e+12  1.503079e+12   974.491228           90.172763  629.0   \n4    1.503079e+12  1.503079e+12   921.333333          101.440576  681.0   \n..            ...           ...          ...                 ...    ...   \n191  1.503084e+12  1.503085e+12   812.507042           37.000142  734.0   \n192  1.503085e+12  1.503085e+12   789.301370           50.192966  682.0   \n193  1.503085e+12  1.503085e+12   753.080000           43.356740  665.0   \n194  1.503085e+12  1.503085e+12   775.973684           51.816217  665.0   \n195  1.503085e+12  1.503085e+12   808.805556           39.137805  729.0   \n\n        max  median   mode      skew  Kurtosis  ...  \\\n0    1082.0   945.5  922.0 -1.598272  3.102513  ...   \n1    1134.0   991.5  994.0 -0.881050 -0.072097  ...   \n2    1145.0  1009.0  966.0 -1.684065  5.628855  ...   \n3    1202.0   978.0  978.0 -0.550896  2.506089  ...   \n4    1165.0   922.0  858.0 -0.117434  0.085849  ...   \n..      ...     ...    ...       ...       ...  ...   \n191   894.0   817.0  845.0 -0.167335 -0.643303  ...   \n192   910.0   790.0  845.0  0.103297 -0.629377  ...   \n193   858.0   750.0  745.0  0.234975 -0.487533  ...   \n194   878.0   773.0  745.0 -0.123712 -0.889475  ...   \n195   878.0   815.5  753.0 -0.384848 -0.764306  ...   \n\n     Did you feel things are going your way?  \\\n0                                       -2.0   \n1                                       -2.0   \n2                                       -2.0   \n3                                       -2.0   \n4                                       -2.0   \n..                                       ...   \n191                                     -2.0   \n192                                     -2.0   \n193                                     -2.0   \n194                                     -2.0   \n195                                     -2.0   \n\n     Did you feel difficulties piling up so you cannot overcome them?  \\\n0                                                 -2.0                  \n1                                                 -2.0                  \n2                                                 -2.0                  \n3                                                 -2.0                  \n4                                                 -2.0                  \n..                                                 ...                  \n191                                               -2.0                  \n192                                               -2.0                  \n193                                               -2.0                  \n194                                               -2.0                  \n195                                               -2.0                  \n\n     How happy were you feeling?  How excited were you feeling?  \\\n0                           -2.0                           -2.0   \n1                           -2.0                           -2.0   \n2                           -2.0                           -2.0   \n3                           -2.0                           -2.0   \n4                           -2.0                           -2.0   \n..                           ...                            ...   \n191                         -2.0                           -2.0   \n192                         -2.0                           -2.0   \n193                         -2.0                           -2.0   \n194                         -2.0                           -2.0   \n195                         -2.0                           -2.0   \n\n     How content were you feeling?  How worried were you feeling?  \\\n0                             -2.0                           -2.0   \n1                             -2.0                           -2.0   \n2                             -2.0                           -2.0   \n3                             -2.0                           -2.0   \n4                             -2.0                           -2.0   \n..                             ...                            ...   \n191                           -2.0                           -2.0   \n192                           -2.0                           -2.0   \n193                           -2.0                           -2.0   \n194                           -2.0                           -2.0   \n195                           -2.0                           -2.0   \n\n     How irritable/angry were you feeling?  How sad were you feeling?  PSS  \\\n0                                     -2.0                       -2.0 -2.0   \n1                                     -2.0                       -2.0 -2.0   \n2                                     -2.0                       -2.0 -2.0   \n3                                     -2.0                       -2.0 -2.0   \n4                                     -2.0                       -2.0 -2.0   \n..                                     ...                        ...  ...   \n191                                   -2.0                       -2.0 -2.0   \n192                                   -2.0                       -2.0 -2.0   \n193                                   -2.0                       -2.0 -2.0   \n194                                   -2.0                       -2.0 -2.0   \n195                                   -2.0                       -2.0 -2.0   \n\n     Induction  \n0           -2  \n1           -2  \n2           -2  \n3           -2  \n4           -2  \n..         ...  \n191         -2  \n192         -2  \n193         -2  \n194         -2  \n195         -2  \n\n[196 rows x 47 columns]",
      "text/html": "<div>\n<style scoped>\n    .dataframe tbody tr th:only-of-type {\n        vertical-align: middle;\n    }\n\n    .dataframe tbody tr th {\n        vertical-align: top;\n    }\n\n    .dataframe thead th {\n        text-align: right;\n    }\n</style>\n<table border=\"1\" class=\"dataframe\">\n  <thead>\n    <tr style=\"text-align: right;\">\n      <th></th>\n      <th>Start</th>\n      <th>End</th>\n      <th>mean</th>\n      <th>standard deviation</th>\n      <th>min</th>\n      <th>max</th>\n      <th>median</th>\n      <th>mode</th>\n      <th>skew</th>\n      <th>Kurtosis</th>\n      <th>...</th>\n      <th>Did you feel things are going your way?</th>\n      <th>Did you feel difficulties piling up so you cannot overcome them?</th>\n      <th>How happy were you feeling?</th>\n      <th>How excited were you feeling?</th>\n      <th>How content were you feeling?</th>\n      <th>How worried were you feeling?</th>\n      <th>How irritable/angry were you feeling?</th>\n      <th>How sad were you feeling?</th>\n      <th>PSS</th>\n      <th>Induction</th>\n    </tr>\n  </thead>\n  <tbody>\n    <tr>\n      <th>0</th>\n      <td>1.503079e+12</td>\n      <td>1.503079e+12</td>\n      <td>909.137931</td>\n      <td>128.072777</td>\n      <td>392.0</td>\n      <td>1082.0</td>\n      <td>945.5</td>\n      <td>922.0</td>\n      <td>-1.598272</td>\n      <td>3.102513</td>\n      <td>...</td>\n      <td>-2.0</td>\n      <td>-2.0</td>\n      <td>-2.0</td>\n      <td>-2.0</td>\n      <td>-2.0</td>\n      <td>-2.0</td>\n      <td>-2.0</td>\n      <td>-2.0</td>\n      <td>-2.0</td>\n      <td>-2</td>\n    </tr>\n    <tr>\n      <th>1</th>\n      <td>1.503079e+12</td>\n      <td>1.503079e+12</td>\n      <td>947.193548</td>\n      <td>109.508998</td>\n      <td>685.0</td>\n      <td>1134.0</td>\n      <td>991.5</td>\n      <td>994.0</td>\n      <td>-0.881050</td>\n      <td>-0.072097</td>\n      <td>...</td>\n      <td>-2.0</td>\n      <td>-2.0</td>\n      <td>-2.0</td>\n      <td>-2.0</td>\n      <td>-2.0</td>\n      <td>-2.0</td>\n      <td>-2.0</td>\n      <td>-2.0</td>\n      <td>-2.0</td>\n      <td>-2</td>\n    </tr>\n    <tr>\n      <th>2</th>\n      <td>1.503079e+12</td>\n      <td>1.503079e+12</td>\n      <td>1009.040816</td>\n      <td>86.736514</td>\n      <td>629.0</td>\n      <td>1145.0</td>\n      <td>1009.0</td>\n      <td>966.0</td>\n      <td>-1.684065</td>\n      <td>5.628855</td>\n      <td>...</td>\n      <td>-2.0</td>\n      <td>-2.0</td>\n      <td>-2.0</td>\n      <td>-2.0</td>\n      <td>-2.0</td>\n      <td>-2.0</td>\n      <td>-2.0</td>\n      <td>-2.0</td>\n      <td>-2.0</td>\n      <td>-2</td>\n    </tr>\n    <tr>\n      <th>3</th>\n      <td>1.503079e+12</td>\n      <td>1.503079e+12</td>\n      <td>974.491228</td>\n      <td>90.172763</td>\n      <td>629.0</td>\n      <td>1202.0</td>\n      <td>978.0</td>\n      <td>978.0</td>\n      <td>-0.550896</td>\n      <td>2.506089</td>\n      <td>...</td>\n      <td>-2.0</td>\n      <td>-2.0</td>\n      <td>-2.0</td>\n      <td>-2.0</td>\n      <td>-2.0</td>\n      <td>-2.0</td>\n      <td>-2.0</td>\n      <td>-2.0</td>\n      <td>-2.0</td>\n      <td>-2</td>\n    </tr>\n    <tr>\n      <th>4</th>\n      <td>1.503079e+12</td>\n      <td>1.503079e+12</td>\n      <td>921.333333</td>\n      <td>101.440576</td>\n      <td>681.0</td>\n      <td>1165.0</td>\n      <td>922.0</td>\n      <td>858.0</td>\n      <td>-0.117434</td>\n      <td>0.085849</td>\n      <td>...</td>\n      <td>-2.0</td>\n      <td>-2.0</td>\n      <td>-2.0</td>\n      <td>-2.0</td>\n      <td>-2.0</td>\n      <td>-2.0</td>\n      <td>-2.0</td>\n      <td>-2.0</td>\n      <td>-2.0</td>\n      <td>-2</td>\n    </tr>\n    <tr>\n      <th>...</th>\n      <td>...</td>\n      <td>...</td>\n      <td>...</td>\n      <td>...</td>\n      <td>...</td>\n      <td>...</td>\n      <td>...</td>\n      <td>...</td>\n      <td>...</td>\n      <td>...</td>\n      <td>...</td>\n      <td>...</td>\n      <td>...</td>\n      <td>...</td>\n      <td>...</td>\n      <td>...</td>\n      <td>...</td>\n      <td>...</td>\n      <td>...</td>\n      <td>...</td>\n      <td>...</td>\n    </tr>\n    <tr>\n      <th>191</th>\n      <td>1.503084e+12</td>\n      <td>1.503085e+12</td>\n      <td>812.507042</td>\n      <td>37.000142</td>\n      <td>734.0</td>\n      <td>894.0</td>\n      <td>817.0</td>\n      <td>845.0</td>\n      <td>-0.167335</td>\n      <td>-0.643303</td>\n      <td>...</td>\n      <td>-2.0</td>\n      <td>-2.0</td>\n      <td>-2.0</td>\n      <td>-2.0</td>\n      <td>-2.0</td>\n      <td>-2.0</td>\n      <td>-2.0</td>\n      <td>-2.0</td>\n      <td>-2.0</td>\n      <td>-2</td>\n    </tr>\n    <tr>\n      <th>192</th>\n      <td>1.503085e+12</td>\n      <td>1.503085e+12</td>\n      <td>789.301370</td>\n      <td>50.192966</td>\n      <td>682.0</td>\n      <td>910.0</td>\n      <td>790.0</td>\n      <td>845.0</td>\n      <td>0.103297</td>\n      <td>-0.629377</td>\n      <td>...</td>\n      <td>-2.0</td>\n      <td>-2.0</td>\n      <td>-2.0</td>\n      <td>-2.0</td>\n      <td>-2.0</td>\n      <td>-2.0</td>\n      <td>-2.0</td>\n      <td>-2.0</td>\n      <td>-2.0</td>\n      <td>-2</td>\n    </tr>\n    <tr>\n      <th>193</th>\n      <td>1.503085e+12</td>\n      <td>1.503085e+12</td>\n      <td>753.080000</td>\n      <td>43.356740</td>\n      <td>665.0</td>\n      <td>858.0</td>\n      <td>750.0</td>\n      <td>745.0</td>\n      <td>0.234975</td>\n      <td>-0.487533</td>\n      <td>...</td>\n      <td>-2.0</td>\n      <td>-2.0</td>\n      <td>-2.0</td>\n      <td>-2.0</td>\n      <td>-2.0</td>\n      <td>-2.0</td>\n      <td>-2.0</td>\n      <td>-2.0</td>\n      <td>-2.0</td>\n      <td>-2</td>\n    </tr>\n    <tr>\n      <th>194</th>\n      <td>1.503085e+12</td>\n      <td>1.503085e+12</td>\n      <td>775.973684</td>\n      <td>51.816217</td>\n      <td>665.0</td>\n      <td>878.0</td>\n      <td>773.0</td>\n      <td>745.0</td>\n      <td>-0.123712</td>\n      <td>-0.889475</td>\n      <td>...</td>\n      <td>-2.0</td>\n      <td>-2.0</td>\n      <td>-2.0</td>\n      <td>-2.0</td>\n      <td>-2.0</td>\n      <td>-2.0</td>\n      <td>-2.0</td>\n      <td>-2.0</td>\n      <td>-2.0</td>\n      <td>-2</td>\n    </tr>\n    <tr>\n      <th>195</th>\n      <td>1.503085e+12</td>\n      <td>1.503085e+12</td>\n      <td>808.805556</td>\n      <td>39.137805</td>\n      <td>729.0</td>\n      <td>878.0</td>\n      <td>815.5</td>\n      <td>753.0</td>\n      <td>-0.384848</td>\n      <td>-0.764306</td>\n      <td>...</td>\n      <td>-2.0</td>\n      <td>-2.0</td>\n      <td>-2.0</td>\n      <td>-2.0</td>\n      <td>-2.0</td>\n      <td>-2.0</td>\n      <td>-2.0</td>\n      <td>-2.0</td>\n      <td>-2.0</td>\n      <td>-2</td>\n    </tr>\n  </tbody>\n</table>\n<p>196 rows × 47 columns</p>\n</div>"
     },
     "execution_count": 40,
     "metadata": {},
     "output_type": "execute_result"
    }
   ],
   "source": [
    "df_ema"
   ],
   "metadata": {
    "collapsed": false,
    "ExecuteTime": {
     "end_time": "2024-03-27T09:00:06.773056432Z",
     "start_time": "2024-03-27T09:00:06.740908064Z"
    }
   }
  },
  {
   "cell_type": "code",
   "execution_count": 36,
   "metadata": {
    "ExecuteTime": {
     "end_time": "2024-03-27T08:58:12.061722720Z",
     "start_time": "2024-03-27T08:58:12.001316930Z"
    }
   },
   "outputs": [
    {
     "data": {
      "text/plain": "    Timestamp (ms)                    AnnotationId              EventType  \\\n0    1503079764906         Activity:Prepare Speech         Prepare Speech   \n1    1503080100652                 Activity:Speech                 Speech   \n2    1503080484222             Activity:Arithmetic             Arithmetic   \n3    1503080957240             Activity:Rest- TSST             Rest- TSST   \n4    1503081113525           Activity:Ice Bucket 6           Ice Bucket 6   \n5    1503081335262                  Activity:rest1                  rest1   \n6    1503081619224               Activity:Eating 3               Eating 3   \n7    1503081843344                  Activity:rest2                  rest2   \n8    1503081948717                Activity:Cry 7-1                Cry 7-1   \n9    1503082140465              Activity:cry-rest1              cry-rest1   \n10   1503082193397                Activity:Cry 7-2                Cry 7-2   \n11   1503082385327              Activity:cry-rest2              cry-rest2   \n12   1503082438192                Activity:Cry 7-3                Cry 7-3   \n13   1503082672372                  Activity:rest3                  rest3   \n14   1503082950517  Activity:Social Conversation 5  Social Conversation 5   \n15   1503083237998                  Activity:rest4                  rest4   \n16   1503083515784          Activity:sing-a-song 1          sing-a-song 1   \n17   1503083740913                  Activity:rest5                  rest5   \n18   1503084052274               Activity:Stroop 2               Stroop 2   \n19   1503084259492                  Activity:rest6                  rest6   \n20   1503084555737                 Activity:Game 4                 Game 4   \n21   1503323870289         Activity:Prepare Speech         Prepare Speech   \n22   1503324216847                 Activity:Speech                 Speech   \n23   1503324580473             Activity:Arithmetic             Arithmetic   \n24   1503325116872             Activity:Rest- TSST             Rest- TSST   \n25   1503325367457  Activity:Social Conversation 5  Social Conversation 5   \n26   1503325605419                  Activity:rest1                  rest1   \n27   1503325702165                Activity:Cry 7-1                Cry 7-1   \n28   1503325894666              Activity:cry-rest1              cry-rest1   \n29   1503325951204                Activity:Cry 7-2                Cry 7-2   \n30   1503326141633              Activity:cry-rest2              cry-rest2   \n31   1503326191775                Activity:Cry 7-3                Cry 7-3   \n32   1503326460514                  Activity:rest2                  rest2   \n33   1503326795044               Activity:Eating 3               Eating 3   \n34   1503327068086                  Activity:rest3                  rest3   \n35   1503327168696           Activity:Ice Bucket 6           Ice Bucket 6   \n36   1503327393292                  Activity:rest4                  rest4   \n37   1503327711199               Activity:Stroop 2               Stroop 2   \n38   1503327951515                  Activity:rest5                  rest5   \n39   1503328264547                 Activity:Game 4                 Game 4   \n40   1503328492358                  Activity:rest6                  rest6   \n41   1503328776653          Activity:sing-a-song 1          sing-a-song 1   \n\n         AuthorId  Start Timestamp (ms)  Stop Timestamp (ms)  Value  \n0   Kristen Rosen         1503079464309        1503079764322    NaN  \n1   Kristen Rosen         1503079800303        1503080100313    NaN  \n2   Kristen Rosen         1503080183870        1503080483881    NaN  \n3   Kristen Rosen         1503080656903        1503080956917    NaN  \n4   Kristen Rosen         1503080963469        1503081111108    NaN  \n5   Kristen Rosen         1503081154914        1503081334926    NaN  \n6   Kristen Rosen         1503081378893        1503081618900    NaN  \n7   Kristen Rosen         1503081662991        1503081843002    NaN  \n8   Kristen Rosen         1503081908628        1503081948634    NaN  \n9   Kristen Rosen         1503081960129        1503082140139    NaN  \n10  Kristen Rosen         1503082153321        1503082193325    NaN  \n11  Kristen Rosen         1503082204925        1503082384931    NaN  \n12  Kristen Rosen         1503082398105        1503082438109    NaN  \n13  Kristen Rosen         1503082492018        1503082672028    NaN  \n14  Kristen Rosen         1503082710187        1503082950190    NaN  \n15  Kristen Rosen         1503083057707        1503083237715    NaN  \n16  Kristen Rosen         1503083275437        1503083515441    NaN  \n17  Kristen Rosen         1503083560584        1503083740588    NaN  \n18  Kristen Rosen         1503083811933        1503084051939    NaN  \n19  Kristen Rosen         1503084079185        1503084259195    NaN  \n20  Kristen Rosen         1503084315391        1503084555396    NaN  \n21  Kristen Rosen         1503323569939        1503323869951    NaN  \n22  Kristen Rosen         1503323916519        1503324216531    NaN  \n23  Kristen Rosen         1503324280129        1503324580131    NaN  \n24  Kristen Rosen         1503324816346        1503325116362    NaN  \n25  Kristen Rosen         1503325127112        1503325367120    NaN  \n26  Kristen Rosen         1503325425080        1503325605085    NaN  \n27  Kristen Rosen         1503325662091        1503325702094    NaN  \n28  Kristen Rosen         1503325714321        1503325894326    NaN  \n29  Kristen Rosen         1503325911120        1503325951123    NaN  \n30  Kristen Rosen         1503325961254        1503326141264    NaN  \n31  Kristen Rosen         1503326151697        1503326191700    NaN  \n32  Kristen Rosen         1503326280162        1503326460172    NaN  \n33  Kristen Rosen         1503326553676        1503326793678    NaN  \n34  Kristen Rosen         1503326887704        1503327067720    NaN  \n35  Kristen Rosen         1503327106723        1503327167210    NaN  \n36  Kristen Rosen         1503327207934        1503327387940    NaN  \n37  Kristen Rosen         1503327469855        1503327709857    NaN  \n38  Kristen Rosen         1503327771152        1503327951163    NaN  \n39  Kristen Rosen         1503328024188        1503328264194    NaN  \n40  Kristen Rosen         1503328312002        1503328492013    NaN  \n41  Kristen Rosen         1503328536279        1503328776292    NaN  ",
      "text/html": "<div>\n<style scoped>\n    .dataframe tbody tr th:only-of-type {\n        vertical-align: middle;\n    }\n\n    .dataframe tbody tr th {\n        vertical-align: top;\n    }\n\n    .dataframe thead th {\n        text-align: right;\n    }\n</style>\n<table border=\"1\" class=\"dataframe\">\n  <thead>\n    <tr style=\"text-align: right;\">\n      <th></th>\n      <th>Timestamp (ms)</th>\n      <th>AnnotationId</th>\n      <th>EventType</th>\n      <th>AuthorId</th>\n      <th>Start Timestamp (ms)</th>\n      <th>Stop Timestamp (ms)</th>\n      <th>Value</th>\n    </tr>\n  </thead>\n  <tbody>\n    <tr>\n      <th>0</th>\n      <td>1503079764906</td>\n      <td>Activity:Prepare Speech</td>\n      <td>Prepare Speech</td>\n      <td>Kristen Rosen</td>\n      <td>1503079464309</td>\n      <td>1503079764322</td>\n      <td>NaN</td>\n    </tr>\n    <tr>\n      <th>1</th>\n      <td>1503080100652</td>\n      <td>Activity:Speech</td>\n      <td>Speech</td>\n      <td>Kristen Rosen</td>\n      <td>1503079800303</td>\n      <td>1503080100313</td>\n      <td>NaN</td>\n    </tr>\n    <tr>\n      <th>2</th>\n      <td>1503080484222</td>\n      <td>Activity:Arithmetic</td>\n      <td>Arithmetic</td>\n      <td>Kristen Rosen</td>\n      <td>1503080183870</td>\n      <td>1503080483881</td>\n      <td>NaN</td>\n    </tr>\n    <tr>\n      <th>3</th>\n      <td>1503080957240</td>\n      <td>Activity:Rest- TSST</td>\n      <td>Rest- TSST</td>\n      <td>Kristen Rosen</td>\n      <td>1503080656903</td>\n      <td>1503080956917</td>\n      <td>NaN</td>\n    </tr>\n    <tr>\n      <th>4</th>\n      <td>1503081113525</td>\n      <td>Activity:Ice Bucket 6</td>\n      <td>Ice Bucket 6</td>\n      <td>Kristen Rosen</td>\n      <td>1503080963469</td>\n      <td>1503081111108</td>\n      <td>NaN</td>\n    </tr>\n    <tr>\n      <th>5</th>\n      <td>1503081335262</td>\n      <td>Activity:rest1</td>\n      <td>rest1</td>\n      <td>Kristen Rosen</td>\n      <td>1503081154914</td>\n      <td>1503081334926</td>\n      <td>NaN</td>\n    </tr>\n    <tr>\n      <th>6</th>\n      <td>1503081619224</td>\n      <td>Activity:Eating 3</td>\n      <td>Eating 3</td>\n      <td>Kristen Rosen</td>\n      <td>1503081378893</td>\n      <td>1503081618900</td>\n      <td>NaN</td>\n    </tr>\n    <tr>\n      <th>7</th>\n      <td>1503081843344</td>\n      <td>Activity:rest2</td>\n      <td>rest2</td>\n      <td>Kristen Rosen</td>\n      <td>1503081662991</td>\n      <td>1503081843002</td>\n      <td>NaN</td>\n    </tr>\n    <tr>\n      <th>8</th>\n      <td>1503081948717</td>\n      <td>Activity:Cry 7-1</td>\n      <td>Cry 7-1</td>\n      <td>Kristen Rosen</td>\n      <td>1503081908628</td>\n      <td>1503081948634</td>\n      <td>NaN</td>\n    </tr>\n    <tr>\n      <th>9</th>\n      <td>1503082140465</td>\n      <td>Activity:cry-rest1</td>\n      <td>cry-rest1</td>\n      <td>Kristen Rosen</td>\n      <td>1503081960129</td>\n      <td>1503082140139</td>\n      <td>NaN</td>\n    </tr>\n    <tr>\n      <th>10</th>\n      <td>1503082193397</td>\n      <td>Activity:Cry 7-2</td>\n      <td>Cry 7-2</td>\n      <td>Kristen Rosen</td>\n      <td>1503082153321</td>\n      <td>1503082193325</td>\n      <td>NaN</td>\n    </tr>\n    <tr>\n      <th>11</th>\n      <td>1503082385327</td>\n      <td>Activity:cry-rest2</td>\n      <td>cry-rest2</td>\n      <td>Kristen Rosen</td>\n      <td>1503082204925</td>\n      <td>1503082384931</td>\n      <td>NaN</td>\n    </tr>\n    <tr>\n      <th>12</th>\n      <td>1503082438192</td>\n      <td>Activity:Cry 7-3</td>\n      <td>Cry 7-3</td>\n      <td>Kristen Rosen</td>\n      <td>1503082398105</td>\n      <td>1503082438109</td>\n      <td>NaN</td>\n    </tr>\n    <tr>\n      <th>13</th>\n      <td>1503082672372</td>\n      <td>Activity:rest3</td>\n      <td>rest3</td>\n      <td>Kristen Rosen</td>\n      <td>1503082492018</td>\n      <td>1503082672028</td>\n      <td>NaN</td>\n    </tr>\n    <tr>\n      <th>14</th>\n      <td>1503082950517</td>\n      <td>Activity:Social Conversation 5</td>\n      <td>Social Conversation 5</td>\n      <td>Kristen Rosen</td>\n      <td>1503082710187</td>\n      <td>1503082950190</td>\n      <td>NaN</td>\n    </tr>\n    <tr>\n      <th>15</th>\n      <td>1503083237998</td>\n      <td>Activity:rest4</td>\n      <td>rest4</td>\n      <td>Kristen Rosen</td>\n      <td>1503083057707</td>\n      <td>1503083237715</td>\n      <td>NaN</td>\n    </tr>\n    <tr>\n      <th>16</th>\n      <td>1503083515784</td>\n      <td>Activity:sing-a-song 1</td>\n      <td>sing-a-song 1</td>\n      <td>Kristen Rosen</td>\n      <td>1503083275437</td>\n      <td>1503083515441</td>\n      <td>NaN</td>\n    </tr>\n    <tr>\n      <th>17</th>\n      <td>1503083740913</td>\n      <td>Activity:rest5</td>\n      <td>rest5</td>\n      <td>Kristen Rosen</td>\n      <td>1503083560584</td>\n      <td>1503083740588</td>\n      <td>NaN</td>\n    </tr>\n    <tr>\n      <th>18</th>\n      <td>1503084052274</td>\n      <td>Activity:Stroop 2</td>\n      <td>Stroop 2</td>\n      <td>Kristen Rosen</td>\n      <td>1503083811933</td>\n      <td>1503084051939</td>\n      <td>NaN</td>\n    </tr>\n    <tr>\n      <th>19</th>\n      <td>1503084259492</td>\n      <td>Activity:rest6</td>\n      <td>rest6</td>\n      <td>Kristen Rosen</td>\n      <td>1503084079185</td>\n      <td>1503084259195</td>\n      <td>NaN</td>\n    </tr>\n    <tr>\n      <th>20</th>\n      <td>1503084555737</td>\n      <td>Activity:Game 4</td>\n      <td>Game 4</td>\n      <td>Kristen Rosen</td>\n      <td>1503084315391</td>\n      <td>1503084555396</td>\n      <td>NaN</td>\n    </tr>\n    <tr>\n      <th>21</th>\n      <td>1503323870289</td>\n      <td>Activity:Prepare Speech</td>\n      <td>Prepare Speech</td>\n      <td>Kristen Rosen</td>\n      <td>1503323569939</td>\n      <td>1503323869951</td>\n      <td>NaN</td>\n    </tr>\n    <tr>\n      <th>22</th>\n      <td>1503324216847</td>\n      <td>Activity:Speech</td>\n      <td>Speech</td>\n      <td>Kristen Rosen</td>\n      <td>1503323916519</td>\n      <td>1503324216531</td>\n      <td>NaN</td>\n    </tr>\n    <tr>\n      <th>23</th>\n      <td>1503324580473</td>\n      <td>Activity:Arithmetic</td>\n      <td>Arithmetic</td>\n      <td>Kristen Rosen</td>\n      <td>1503324280129</td>\n      <td>1503324580131</td>\n      <td>NaN</td>\n    </tr>\n    <tr>\n      <th>24</th>\n      <td>1503325116872</td>\n      <td>Activity:Rest- TSST</td>\n      <td>Rest- TSST</td>\n      <td>Kristen Rosen</td>\n      <td>1503324816346</td>\n      <td>1503325116362</td>\n      <td>NaN</td>\n    </tr>\n    <tr>\n      <th>25</th>\n      <td>1503325367457</td>\n      <td>Activity:Social Conversation 5</td>\n      <td>Social Conversation 5</td>\n      <td>Kristen Rosen</td>\n      <td>1503325127112</td>\n      <td>1503325367120</td>\n      <td>NaN</td>\n    </tr>\n    <tr>\n      <th>26</th>\n      <td>1503325605419</td>\n      <td>Activity:rest1</td>\n      <td>rest1</td>\n      <td>Kristen Rosen</td>\n      <td>1503325425080</td>\n      <td>1503325605085</td>\n      <td>NaN</td>\n    </tr>\n    <tr>\n      <th>27</th>\n      <td>1503325702165</td>\n      <td>Activity:Cry 7-1</td>\n      <td>Cry 7-1</td>\n      <td>Kristen Rosen</td>\n      <td>1503325662091</td>\n      <td>1503325702094</td>\n      <td>NaN</td>\n    </tr>\n    <tr>\n      <th>28</th>\n      <td>1503325894666</td>\n      <td>Activity:cry-rest1</td>\n      <td>cry-rest1</td>\n      <td>Kristen Rosen</td>\n      <td>1503325714321</td>\n      <td>1503325894326</td>\n      <td>NaN</td>\n    </tr>\n    <tr>\n      <th>29</th>\n      <td>1503325951204</td>\n      <td>Activity:Cry 7-2</td>\n      <td>Cry 7-2</td>\n      <td>Kristen Rosen</td>\n      <td>1503325911120</td>\n      <td>1503325951123</td>\n      <td>NaN</td>\n    </tr>\n    <tr>\n      <th>30</th>\n      <td>1503326141633</td>\n      <td>Activity:cry-rest2</td>\n      <td>cry-rest2</td>\n      <td>Kristen Rosen</td>\n      <td>1503325961254</td>\n      <td>1503326141264</td>\n      <td>NaN</td>\n    </tr>\n    <tr>\n      <th>31</th>\n      <td>1503326191775</td>\n      <td>Activity:Cry 7-3</td>\n      <td>Cry 7-3</td>\n      <td>Kristen Rosen</td>\n      <td>1503326151697</td>\n      <td>1503326191700</td>\n      <td>NaN</td>\n    </tr>\n    <tr>\n      <th>32</th>\n      <td>1503326460514</td>\n      <td>Activity:rest2</td>\n      <td>rest2</td>\n      <td>Kristen Rosen</td>\n      <td>1503326280162</td>\n      <td>1503326460172</td>\n      <td>NaN</td>\n    </tr>\n    <tr>\n      <th>33</th>\n      <td>1503326795044</td>\n      <td>Activity:Eating 3</td>\n      <td>Eating 3</td>\n      <td>Kristen Rosen</td>\n      <td>1503326553676</td>\n      <td>1503326793678</td>\n      <td>NaN</td>\n    </tr>\n    <tr>\n      <th>34</th>\n      <td>1503327068086</td>\n      <td>Activity:rest3</td>\n      <td>rest3</td>\n      <td>Kristen Rosen</td>\n      <td>1503326887704</td>\n      <td>1503327067720</td>\n      <td>NaN</td>\n    </tr>\n    <tr>\n      <th>35</th>\n      <td>1503327168696</td>\n      <td>Activity:Ice Bucket 6</td>\n      <td>Ice Bucket 6</td>\n      <td>Kristen Rosen</td>\n      <td>1503327106723</td>\n      <td>1503327167210</td>\n      <td>NaN</td>\n    </tr>\n    <tr>\n      <th>36</th>\n      <td>1503327393292</td>\n      <td>Activity:rest4</td>\n      <td>rest4</td>\n      <td>Kristen Rosen</td>\n      <td>1503327207934</td>\n      <td>1503327387940</td>\n      <td>NaN</td>\n    </tr>\n    <tr>\n      <th>37</th>\n      <td>1503327711199</td>\n      <td>Activity:Stroop 2</td>\n      <td>Stroop 2</td>\n      <td>Kristen Rosen</td>\n      <td>1503327469855</td>\n      <td>1503327709857</td>\n      <td>NaN</td>\n    </tr>\n    <tr>\n      <th>38</th>\n      <td>1503327951515</td>\n      <td>Activity:rest5</td>\n      <td>rest5</td>\n      <td>Kristen Rosen</td>\n      <td>1503327771152</td>\n      <td>1503327951163</td>\n      <td>NaN</td>\n    </tr>\n    <tr>\n      <th>39</th>\n      <td>1503328264547</td>\n      <td>Activity:Game 4</td>\n      <td>Game 4</td>\n      <td>Kristen Rosen</td>\n      <td>1503328024188</td>\n      <td>1503328264194</td>\n      <td>NaN</td>\n    </tr>\n    <tr>\n      <th>40</th>\n      <td>1503328492358</td>\n      <td>Activity:rest6</td>\n      <td>rest6</td>\n      <td>Kristen Rosen</td>\n      <td>1503328312002</td>\n      <td>1503328492013</td>\n      <td>NaN</td>\n    </tr>\n    <tr>\n      <th>41</th>\n      <td>1503328776653</td>\n      <td>Activity:sing-a-song 1</td>\n      <td>sing-a-song 1</td>\n      <td>Kristen Rosen</td>\n      <td>1503328536279</td>\n      <td>1503328776292</td>\n      <td>NaN</td>\n    </tr>\n  </tbody>\n</table>\n</div>"
     },
     "execution_count": 36,
     "metadata": {},
     "output_type": "execute_result"
    }
   ],
   "source": [
    "df_annot = pd.read_csv('Data/In-lab/P9/annotations.csv')\n",
    "\n",
    "df_annot"
   ]
  },
  {
   "cell_type": "code",
   "execution_count": 4,
   "metadata": {
    "ExecuteTime": {
     "end_time": "2024-03-27T08:28:29.002484031Z",
     "start_time": "2024-03-27T08:28:28.995669546Z"
    }
   },
   "outputs": [
    {
     "data": {
      "text/plain": "0    1502302358748\n1    1502302358752\n2    1502302358756\n3    1502302358760\n4    1502302358764\nName: Timestamp (ms), dtype: int64"
     },
     "execution_count": 4,
     "metadata": {},
     "output_type": "execute_result"
    }
   ],
   "source": [
    "df_full.iloc[:5]['Timestamp (ms)']"
   ]
  },
  {
   "cell_type": "code",
   "execution_count": 5,
   "metadata": {
    "ExecuteTime": {
     "end_time": "2024-03-27T08:28:29.883071646Z",
     "start_time": "2024-03-27T08:28:29.871849963Z"
    }
   },
   "outputs": [
    {
     "data": {
      "text/plain": "0            Activity:Prepare Speech\n1                    Activity:Speech\n2                Activity:Arithmetic\n3                Activity:Rest- TSST\n4                  Activity:Stroop 2\n5                     Activity:rest1\n6                  Activity:Eating 3\n7                     Activity:rest2\n8                   Activity:Cry 7-1\n9                 Activity:cry-rest1\n10                  Activity:Cry 7-2\n11                Activity:cry-rest2\n12                  Activity:Cry 7-3\n13                    Activity:rest3\n14    Activity:Social Conversation 5\n15                    Activity:rest4\n16            Activity:sing-a-song 1\n17                    Activity:rest5\n18                   Activity:Game 4\n19                    Activity:rest6\n20             Activity:Ice Bucket 6\nName: AnnotationId, dtype: object"
     },
     "execution_count": 5,
     "metadata": {},
     "output_type": "execute_result"
    }
   ],
   "source": [
    "df_annot['AnnotationId']"
   ]
  },
  {
   "cell_type": "code",
   "execution_count": 6,
   "metadata": {
    "ExecuteTime": {
     "end_time": "2024-03-27T08:28:31.803424096Z",
     "start_time": "2024-03-27T08:28:31.794422990Z"
    }
   },
   "outputs": [],
   "source": [
    "start = df_annot[['Start Timestamp (ms)', 'Stop Timestamp (ms)']].to_numpy()\n",
    "start, end = start[:, 0], start[:, 1]"
   ]
  },
  {
   "cell_type": "code",
   "execution_count": 7,
   "metadata": {
    "ExecuteTime": {
     "end_time": "2024-03-27T08:28:32.228013100Z",
     "start_time": "2024-03-27T08:28:32.220512821Z"
    }
   },
   "outputs": [
    {
     "data": {
      "text/plain": "array([5.00011667, 5.00016667, 5.00006667, 5.00015   , 4.00008333,\n       3.00006667, 4.00021667, 3.00011667, 0.66676667, 3.00006667,\n       0.66678333, 3.00011667, 0.66688333, 3.00008333, 4.00005   ,\n       3.00005   , 4.00006667, 3.00006667, 4.0002    , 3.00021667,\n       0.65426667])"
     },
     "execution_count": 7,
     "metadata": {},
     "output_type": "execute_result"
    }
   ],
   "source": [
    "(end-start) / 60000"
   ]
  },
  {
   "cell_type": "code",
   "execution_count": 8,
   "metadata": {
    "ExecuteTime": {
     "end_time": "2024-03-27T08:28:32.954963333Z",
     "start_time": "2024-03-27T08:28:32.944490462Z"
    }
   },
   "outputs": [
    {
     "data": {
      "text/plain": "0          1502302358748\n1          1502302358752\n2          1502302358756\n3          1502302358760\n4          1502302358764\n               ...      \n1673713    1502309062833\n1673714    1502309062837\n1673715    1502309062841\n1673716    1502309062845\n1673717    1502309062849\nName: Timestamp (ms), Length: 1673718, dtype: int64"
     },
     "execution_count": 8,
     "metadata": {},
     "output_type": "execute_result"
    }
   ],
   "source": [
    "df_full['Timestamp (ms)']"
   ]
  },
  {
   "cell_type": "code",
   "execution_count": 9,
   "metadata": {
    "ExecuteTime": {
     "end_time": "2024-03-27T08:28:34.903786875Z",
     "start_time": "2024-03-27T08:28:34.749297586Z"
    }
   },
   "outputs": [
    {
     "ename": "KeyError",
     "evalue": "'preprocessing'",
     "output_type": "error",
     "traceback": [
      "\u001B[0;31m---------------------------------------------------------------------------\u001B[0m",
      "\u001B[0;31mKeyError\u001B[0m                                  Traceback (most recent call last)",
      "Cell \u001B[0;32mIn [9], line 3\u001B[0m\n\u001B[1;32m      1\u001B[0m \u001B[38;5;28;01mfrom\u001B[39;00m \u001B[38;5;21;01mimportlib\u001B[39;00m \u001B[38;5;28;01mimport\u001B[39;00m reload\n\u001B[1;32m      2\u001B[0m \u001B[38;5;28;01mimport\u001B[39;00m \u001B[38;5;21;01msys\u001B[39;00m\n\u001B[0;32m----> 3\u001B[0m reload(\u001B[43msys\u001B[49m\u001B[38;5;241;43m.\u001B[39;49m\u001B[43mmodules\u001B[49m\u001B[43m[\u001B[49m\u001B[38;5;124;43m'\u001B[39;49m\u001B[38;5;124;43mpreprocessing\u001B[39;49m\u001B[38;5;124;43m'\u001B[39;49m\u001B[43m]\u001B[49m)\n",
      "\u001B[0;31mKeyError\u001B[0m: 'preprocessing'"
     ]
    }
   ],
   "source": [
    "from importlib import reload\n",
    "import sys\n",
    "reload(sys.modules['preprocessing'])"
   ]
  },
  {
   "cell_type": "code",
   "execution_count": 11,
   "outputs": [
    {
     "ename": "AxisError",
     "evalue": "axis 1 is out of bounds for array of dimension 1",
     "output_type": "error",
     "traceback": [
      "\u001B[0;31m---------------------------------------------------------------------------\u001B[0m",
      "\u001B[0;31mAxisError\u001B[0m                                 Traceback (most recent call last)",
      "Cell \u001B[0;32mIn [11], line 3\u001B[0m\n\u001B[1;32m      1\u001B[0m \u001B[38;5;28;01mfrom\u001B[39;00m \u001B[38;5;21;01mpreprocessing\u001B[39;00m \u001B[38;5;28;01mimport\u001B[39;00m get_data\n\u001B[0;32m----> 3\u001B[0m data \u001B[38;5;241m=\u001B[39m \u001B[43mget_data\u001B[49m\u001B[43m(\u001B[49m\u001B[38;5;124;43m'\u001B[39;49m\u001B[38;5;124;43m./Data/In-lab/P5\u001B[39;49m\u001B[38;5;124;43m'\u001B[39;49m\u001B[43m)\u001B[49m\n\u001B[1;32m      5\u001B[0m data\u001B[38;5;241m.\u001B[39mshape\n",
      "File \u001B[0;32m~/study/Healthcare/preprocessing.py:102\u001B[0m, in \u001B[0;36mget_data\u001B[0;34m(dir, interval_duration)\u001B[0m\n\u001B[1;32m    100\u001B[0m     arr \u001B[38;5;241m=\u001B[39m get_intervals(df, interval_duration)\n\u001B[1;32m    101\u001B[0m     n \u001B[38;5;241m=\u001B[39m \u001B[38;5;28mlen\u001B[39m(arr)\n\u001B[0;32m--> 102\u001B[0m     arr \u001B[38;5;241m=\u001B[39m \u001B[43mnp\u001B[49m\u001B[38;5;241;43m.\u001B[39;49m\u001B[43mconcatenate\u001B[49m\u001B[43m(\u001B[49m\u001B[43m[\u001B[49m\n\u001B[1;32m    103\u001B[0m \u001B[43m        \u001B[49m\u001B[43marr\u001B[49m\u001B[43m,\u001B[49m\u001B[43m \u001B[49m\u001B[43m[\u001B[49m\u001B[43mema\u001B[49m\u001B[43m]\u001B[49m\u001B[43m \u001B[49m\u001B[38;5;241;43m*\u001B[39;49m\u001B[43m \u001B[49m\u001B[43mn\u001B[49m\u001B[43m,\u001B[49m\n\u001B[1;32m    104\u001B[0m \u001B[43m        \u001B[49m\u001B[43mnp\u001B[49m\u001B[38;5;241;43m.\u001B[39;49m\u001B[43marray\u001B[49m\u001B[43m(\u001B[49m\u001B[43m[\u001B[49m\u001B[43mact\u001B[49m\u001B[43m]\u001B[49m\u001B[43m \u001B[49m\u001B[38;5;241;43m*\u001B[39;49m\u001B[43m \u001B[49m\u001B[43mn\u001B[49m\u001B[43m)\u001B[49m\u001B[43m[\u001B[49m\u001B[43m:\u001B[49m\u001B[43m,\u001B[49m\u001B[43m \u001B[49m\u001B[38;5;28;43;01mNone\u001B[39;49;00m\u001B[43m]\u001B[49m\u001B[43m,\u001B[49m\n\u001B[1;32m    105\u001B[0m \u001B[43m        \u001B[49m\u001B[43mnp\u001B[49m\u001B[38;5;241;43m.\u001B[39;49m\u001B[43marray\u001B[49m\u001B[43m(\u001B[49m\u001B[43m[\u001B[49m\u001B[43mlabel\u001B[49m\u001B[43m]\u001B[49m\u001B[43m \u001B[49m\u001B[38;5;241;43m*\u001B[39;49m\u001B[43m \u001B[49m\u001B[43mn\u001B[49m\u001B[43m)\u001B[49m\u001B[43m[\u001B[49m\u001B[43m:\u001B[49m\u001B[43m,\u001B[49m\u001B[43m \u001B[49m\u001B[38;5;28;43;01mNone\u001B[39;49;00m\u001B[43m]\u001B[49m\n\u001B[1;32m    106\u001B[0m \u001B[43m    \u001B[49m\u001B[43m]\u001B[49m\u001B[43m,\u001B[49m\n\u001B[1;32m    107\u001B[0m \u001B[43m                         \u001B[49m\u001B[43maxis\u001B[49m\u001B[38;5;241;43m=\u001B[39;49m\u001B[38;5;241;43m1\u001B[39;49m\u001B[43m)\u001B[49m\n\u001B[1;32m    108\u001B[0m     intervals\u001B[38;5;241m.\u001B[39mappend(arr)\n\u001B[1;32m    109\u001B[0m \u001B[38;5;28;01mreturn\u001B[39;00m np\u001B[38;5;241m.\u001B[39mconcatenate(intervals, axis\u001B[38;5;241m=\u001B[39m\u001B[38;5;241m0\u001B[39m)\n",
      "File \u001B[0;32m<__array_function__ internals>:180\u001B[0m, in \u001B[0;36mconcatenate\u001B[0;34m(*args, **kwargs)\u001B[0m\n",
      "\u001B[0;31mAxisError\u001B[0m: axis 1 is out of bounds for array of dimension 1"
     ]
    }
   ],
   "source": [
    "from preprocessing import get_data\n",
    "\n",
    "data = get_data('./Data/In-lab/P5')\n",
    "\n",
    "data.shape"
   ],
   "metadata": {
    "collapsed": false,
    "ExecuteTime": {
     "end_time": "2024-03-27T08:28:42.057689095Z",
     "start_time": "2024-03-27T08:28:41.613491748Z"
    }
   }
  },
  {
   "cell_type": "code",
   "execution_count": 26,
   "metadata": {
    "ExecuteTime": {
     "end_time": "2024-03-27T08:48:54.586980905Z",
     "start_time": "2024-03-27T08:48:54.483664270Z"
    }
   },
   "outputs": [],
   "source": [
    "from preprocessing import extract_activity_segments, get_intervals, get_ema\n",
    "\n",
    "res, labels = extract_activity_segments(df_full, df_annot)"
   ]
  },
  {
   "cell_type": "code",
   "execution_count": 27,
   "metadata": {
    "ExecuteTime": {
     "end_time": "2024-03-27T08:48:56.320093572Z",
     "start_time": "2024-03-27T08:48:56.300466106Z"
    }
   },
   "outputs": [
    {
     "data": {
      "text/plain": "([1, 1, 1, 1, 0, 1, 0, 0, 1, 0, 1, 0, 1, 0, 1], 15)"
     },
     "execution_count": 27,
     "metadata": {},
     "output_type": "execute_result"
    }
   ],
   "source": [
    "labels, len(labels)"
   ]
  },
  {
   "cell_type": "code",
   "execution_count": 28,
   "outputs": [
    {
     "data": {
      "text/plain": "    Timestamp (ms)                    AnnotationId              EventType  \\\n0    1502303364407         Activity:Prepare Speech         Prepare Speech   \n1    1502303695533                 Activity:Speech                 Speech   \n2    1502304062010             Activity:Arithmetic             Arithmetic   \n3    1502304930125             Activity:Rest- TSST             Rest- TSST   \n4    1502305221708               Activity:Stroop 2               Stroop 2   \n5    1502305865467                  Activity:rest1                  rest1   \n6    1502306151888               Activity:Eating 3               Eating 3   \n7    1502306394581                  Activity:rest2                  rest2   \n8    1502306499625                Activity:Cry 7-1                Cry 7-1   \n9    1502306688268              Activity:cry-rest1              cry-rest1   \n10   1502306740290                Activity:Cry 7-2                Cry 7-2   \n11   1502306930674              Activity:cry-rest2              cry-rest2   \n12   1502306983718                Activity:Cry 7-3                Cry 7-3   \n13   1502307252943                  Activity:rest3                  rest3   \n14   1502307550434  Activity:Social Conversation 5  Social Conversation 5   \n15   1502307788773                  Activity:rest4                  rest4   \n16   1502308067443          Activity:sing-a-song 1          sing-a-song 1   \n17   1502308301271                  Activity:rest5                  rest5   \n18   1502308604957                 Activity:Game 4                 Game 4   \n19   1502308837231                  Activity:rest6                  rest6   \n20   1502308922110           Activity:Ice Bucket 6           Ice Bucket 6   \n\n         AuthorId  Start Timestamp (ms)  Stop Timestamp (ms)  Value  \n0   Kristen Rosen         1502303064104        1502303364111    NaN  \n1   Kristen Rosen         1502303394714        1502303694724    NaN  \n2   Kristen Rosen         1502303761659        1502304061663    NaN  \n3   Kristen Rosen         1502304629784        1502304929793    NaN  \n4   Kristen Rosen         1502304981076        1502305221081    NaN  \n5   Kristen Rosen         1502305685013        1502305865017    NaN  \n6   Kristen Rosen         1502305911461        1502306151474    NaN  \n7   Kristen Rosen         1502306214188        1502306394195    NaN  \n8   Kristen Rosen         1502306459567        1502306499573    NaN  \n9   Kristen Rosen         1502306507928        1502306687932    NaN  \n10  Kristen Rosen         1502306700219        1502306740226    NaN  \n11  Kristen Rosen         1502306750302        1502306930309    NaN  \n12  Kristen Rosen         1502306943632        1502306983645    NaN  \n13  Kristen Rosen         1502307072611        1502307252616    NaN  \n14  Kristen Rosen         1502307310099        1502307550102    NaN  \n15  Kristen Rosen         1502307608441        1502307788444    NaN  \n16  Kristen Rosen         1502307827108        1502308067112    NaN  \n17  Kristen Rosen         1502308120868        1502308300872    NaN  \n18  Kristen Rosen         1502308364611        1502308604623    NaN  \n19  Kristen Rosen         1502308656908        1502308836921    NaN  \n20  Kristen Rosen         1502308878572        1502308917828    NaN  ",
      "text/html": "<div>\n<style scoped>\n    .dataframe tbody tr th:only-of-type {\n        vertical-align: middle;\n    }\n\n    .dataframe tbody tr th {\n        vertical-align: top;\n    }\n\n    .dataframe thead th {\n        text-align: right;\n    }\n</style>\n<table border=\"1\" class=\"dataframe\">\n  <thead>\n    <tr style=\"text-align: right;\">\n      <th></th>\n      <th>Timestamp (ms)</th>\n      <th>AnnotationId</th>\n      <th>EventType</th>\n      <th>AuthorId</th>\n      <th>Start Timestamp (ms)</th>\n      <th>Stop Timestamp (ms)</th>\n      <th>Value</th>\n    </tr>\n  </thead>\n  <tbody>\n    <tr>\n      <th>0</th>\n      <td>1502303364407</td>\n      <td>Activity:Prepare Speech</td>\n      <td>Prepare Speech</td>\n      <td>Kristen Rosen</td>\n      <td>1502303064104</td>\n      <td>1502303364111</td>\n      <td>NaN</td>\n    </tr>\n    <tr>\n      <th>1</th>\n      <td>1502303695533</td>\n      <td>Activity:Speech</td>\n      <td>Speech</td>\n      <td>Kristen Rosen</td>\n      <td>1502303394714</td>\n      <td>1502303694724</td>\n      <td>NaN</td>\n    </tr>\n    <tr>\n      <th>2</th>\n      <td>1502304062010</td>\n      <td>Activity:Arithmetic</td>\n      <td>Arithmetic</td>\n      <td>Kristen Rosen</td>\n      <td>1502303761659</td>\n      <td>1502304061663</td>\n      <td>NaN</td>\n    </tr>\n    <tr>\n      <th>3</th>\n      <td>1502304930125</td>\n      <td>Activity:Rest- TSST</td>\n      <td>Rest- TSST</td>\n      <td>Kristen Rosen</td>\n      <td>1502304629784</td>\n      <td>1502304929793</td>\n      <td>NaN</td>\n    </tr>\n    <tr>\n      <th>4</th>\n      <td>1502305221708</td>\n      <td>Activity:Stroop 2</td>\n      <td>Stroop 2</td>\n      <td>Kristen Rosen</td>\n      <td>1502304981076</td>\n      <td>1502305221081</td>\n      <td>NaN</td>\n    </tr>\n    <tr>\n      <th>5</th>\n      <td>1502305865467</td>\n      <td>Activity:rest1</td>\n      <td>rest1</td>\n      <td>Kristen Rosen</td>\n      <td>1502305685013</td>\n      <td>1502305865017</td>\n      <td>NaN</td>\n    </tr>\n    <tr>\n      <th>6</th>\n      <td>1502306151888</td>\n      <td>Activity:Eating 3</td>\n      <td>Eating 3</td>\n      <td>Kristen Rosen</td>\n      <td>1502305911461</td>\n      <td>1502306151474</td>\n      <td>NaN</td>\n    </tr>\n    <tr>\n      <th>7</th>\n      <td>1502306394581</td>\n      <td>Activity:rest2</td>\n      <td>rest2</td>\n      <td>Kristen Rosen</td>\n      <td>1502306214188</td>\n      <td>1502306394195</td>\n      <td>NaN</td>\n    </tr>\n    <tr>\n      <th>8</th>\n      <td>1502306499625</td>\n      <td>Activity:Cry 7-1</td>\n      <td>Cry 7-1</td>\n      <td>Kristen Rosen</td>\n      <td>1502306459567</td>\n      <td>1502306499573</td>\n      <td>NaN</td>\n    </tr>\n    <tr>\n      <th>9</th>\n      <td>1502306688268</td>\n      <td>Activity:cry-rest1</td>\n      <td>cry-rest1</td>\n      <td>Kristen Rosen</td>\n      <td>1502306507928</td>\n      <td>1502306687932</td>\n      <td>NaN</td>\n    </tr>\n    <tr>\n      <th>10</th>\n      <td>1502306740290</td>\n      <td>Activity:Cry 7-2</td>\n      <td>Cry 7-2</td>\n      <td>Kristen Rosen</td>\n      <td>1502306700219</td>\n      <td>1502306740226</td>\n      <td>NaN</td>\n    </tr>\n    <tr>\n      <th>11</th>\n      <td>1502306930674</td>\n      <td>Activity:cry-rest2</td>\n      <td>cry-rest2</td>\n      <td>Kristen Rosen</td>\n      <td>1502306750302</td>\n      <td>1502306930309</td>\n      <td>NaN</td>\n    </tr>\n    <tr>\n      <th>12</th>\n      <td>1502306983718</td>\n      <td>Activity:Cry 7-3</td>\n      <td>Cry 7-3</td>\n      <td>Kristen Rosen</td>\n      <td>1502306943632</td>\n      <td>1502306983645</td>\n      <td>NaN</td>\n    </tr>\n    <tr>\n      <th>13</th>\n      <td>1502307252943</td>\n      <td>Activity:rest3</td>\n      <td>rest3</td>\n      <td>Kristen Rosen</td>\n      <td>1502307072611</td>\n      <td>1502307252616</td>\n      <td>NaN</td>\n    </tr>\n    <tr>\n      <th>14</th>\n      <td>1502307550434</td>\n      <td>Activity:Social Conversation 5</td>\n      <td>Social Conversation 5</td>\n      <td>Kristen Rosen</td>\n      <td>1502307310099</td>\n      <td>1502307550102</td>\n      <td>NaN</td>\n    </tr>\n    <tr>\n      <th>15</th>\n      <td>1502307788773</td>\n      <td>Activity:rest4</td>\n      <td>rest4</td>\n      <td>Kristen Rosen</td>\n      <td>1502307608441</td>\n      <td>1502307788444</td>\n      <td>NaN</td>\n    </tr>\n    <tr>\n      <th>16</th>\n      <td>1502308067443</td>\n      <td>Activity:sing-a-song 1</td>\n      <td>sing-a-song 1</td>\n      <td>Kristen Rosen</td>\n      <td>1502307827108</td>\n      <td>1502308067112</td>\n      <td>NaN</td>\n    </tr>\n    <tr>\n      <th>17</th>\n      <td>1502308301271</td>\n      <td>Activity:rest5</td>\n      <td>rest5</td>\n      <td>Kristen Rosen</td>\n      <td>1502308120868</td>\n      <td>1502308300872</td>\n      <td>NaN</td>\n    </tr>\n    <tr>\n      <th>18</th>\n      <td>1502308604957</td>\n      <td>Activity:Game 4</td>\n      <td>Game 4</td>\n      <td>Kristen Rosen</td>\n      <td>1502308364611</td>\n      <td>1502308604623</td>\n      <td>NaN</td>\n    </tr>\n    <tr>\n      <th>19</th>\n      <td>1502308837231</td>\n      <td>Activity:rest6</td>\n      <td>rest6</td>\n      <td>Kristen Rosen</td>\n      <td>1502308656908</td>\n      <td>1502308836921</td>\n      <td>NaN</td>\n    </tr>\n    <tr>\n      <th>20</th>\n      <td>1502308922110</td>\n      <td>Activity:Ice Bucket 6</td>\n      <td>Ice Bucket 6</td>\n      <td>Kristen Rosen</td>\n      <td>1502308878572</td>\n      <td>1502308917828</td>\n      <td>NaN</td>\n    </tr>\n  </tbody>\n</table>\n</div>"
     },
     "execution_count": 28,
     "metadata": {},
     "output_type": "execute_result"
    }
   ],
   "source": [
    "df_annot"
   ],
   "metadata": {
    "collapsed": false,
    "ExecuteTime": {
     "end_time": "2024-03-27T08:48:57.244066830Z",
     "start_time": "2024-03-27T08:48:57.235570726Z"
    }
   }
  },
  {
   "cell_type": "code",
   "execution_count": 31,
   "outputs": [
    {
     "data": {
      "text/plain": "15"
     },
     "execution_count": 31,
     "metadata": {},
     "output_type": "execute_result"
    }
   ],
   "source": [
    "len(res)"
   ],
   "metadata": {
    "collapsed": false,
    "ExecuteTime": {
     "end_time": "2024-03-27T08:50:29.214096229Z",
     "start_time": "2024-03-27T08:50:29.195139792Z"
    }
   }
  },
  {
   "cell_type": "code",
   "execution_count": 29,
   "metadata": {
    "ExecuteTime": {
     "end_time": "2024-03-27T08:48:59.136193016Z",
     "start_time": "2024-03-27T08:48:59.112602955Z"
    }
   },
   "outputs": [
    {
     "name": "stdout",
     "output_type": "stream",
     "text": [
      "(9, 15000)\n",
      "(9, 15000)\n",
      "(9, 15000)\n",
      "(7, 15000)\n",
      "(5, 15000)\n",
      "(7, 15000)\n",
      "(5, 15000)\n",
      "(5, 15000)\n",
      "(7, 15000)\n",
      "(5, 15000)\n",
      "(7, 15000)\n",
      "(5, 15000)\n",
      "(7, 15000)\n",
      "(5, 15000)\n",
      "(0,)\n"
     ]
    }
   ],
   "source": [
    "for r in res:\n",
    "    intervals = get_intervals(r, 1)\n",
    "    print(intervals.shape)"
   ]
  },
  {
   "cell_type": "code",
   "execution_count": 35,
   "outputs": [
    {
     "ename": "KeyboardInterrupt",
     "evalue": "",
     "output_type": "error",
     "traceback": [
      "\u001B[0;31m---------------------------------------------------------------------------\u001B[0m",
      "\u001B[0;31mKeyboardInterrupt\u001B[0m                         Traceback (most recent call last)",
      "Cell \u001B[0;32mIn [35], line 1\u001B[0m\n\u001B[0;32m----> 1\u001B[0m \u001B[43mget_intervals\u001B[49m\u001B[43m(\u001B[49m\u001B[43mres\u001B[49m\u001B[43m[\u001B[49m\u001B[38;5;241;43m-\u001B[39;49m\u001B[38;5;241;43m1\u001B[39;49m\u001B[43m]\u001B[49m\u001B[43m)\u001B[49m\n",
      "File \u001B[0;32m~/study/Healthcare/preprocessing.py:54\u001B[0m, in \u001B[0;36mget_intervals\u001B[0;34m(df, interval_duration)\u001B[0m\n\u001B[1;32m     48\u001B[0m cramp \u001B[38;5;241m=\u001B[39m \u001B[38;5;28mmax\u001B[39m(\u001B[38;5;241m0\u001B[39m, cramp)\n\u001B[1;32m     50\u001B[0m interval_indices \u001B[38;5;241m=\u001B[39m np\u001B[38;5;241m.\u001B[39mlinspace(\u001B[38;5;241m0\u001B[39m,\n\u001B[1;32m     51\u001B[0m                                \u001B[38;5;28mlen\u001B[39m(df) \u001B[38;5;241m-\u001B[39m cramp,\n\u001B[1;32m     52\u001B[0m                                num\u001B[38;5;241m=\u001B[39m\u001B[38;5;241m2\u001B[39m \u001B[38;5;241m*\u001B[39m num_intervals,\n\u001B[1;32m     53\u001B[0m                                endpoint\u001B[38;5;241m=\u001B[39m\u001B[38;5;28;01mFalse\u001B[39;00m)[:\u001B[38;5;241m-\u001B[39m\u001B[38;5;241m1\u001B[39m]\n\u001B[0;32m---> 54\u001B[0m \u001B[38;5;28;01mfor\u001B[39;00m i \u001B[38;5;129;01min\u001B[39;00m \u001B[43minterval_indices\u001B[49m:\n\u001B[1;32m     55\u001B[0m     i \u001B[38;5;241m=\u001B[39m \u001B[38;5;28mint\u001B[39m(i)\n\u001B[1;32m     56\u001B[0m     interval \u001B[38;5;241m=\u001B[39m df[target_attr]\u001B[38;5;241m.\u001B[39miloc[i:i \u001B[38;5;241m+\u001B[39m interval_length]\u001B[38;5;241m.\u001B[39mto_numpy()\n",
      "File \u001B[0;32m~/study/Healthcare/preprocessing.py:54\u001B[0m, in \u001B[0;36mget_intervals\u001B[0;34m(df, interval_duration)\u001B[0m\n\u001B[1;32m     48\u001B[0m cramp \u001B[38;5;241m=\u001B[39m \u001B[38;5;28mmax\u001B[39m(\u001B[38;5;241m0\u001B[39m, cramp)\n\u001B[1;32m     50\u001B[0m interval_indices \u001B[38;5;241m=\u001B[39m np\u001B[38;5;241m.\u001B[39mlinspace(\u001B[38;5;241m0\u001B[39m,\n\u001B[1;32m     51\u001B[0m                                \u001B[38;5;28mlen\u001B[39m(df) \u001B[38;5;241m-\u001B[39m cramp,\n\u001B[1;32m     52\u001B[0m                                num\u001B[38;5;241m=\u001B[39m\u001B[38;5;241m2\u001B[39m \u001B[38;5;241m*\u001B[39m num_intervals,\n\u001B[1;32m     53\u001B[0m                                endpoint\u001B[38;5;241m=\u001B[39m\u001B[38;5;28;01mFalse\u001B[39;00m)[:\u001B[38;5;241m-\u001B[39m\u001B[38;5;241m1\u001B[39m]\n\u001B[0;32m---> 54\u001B[0m \u001B[38;5;28;01mfor\u001B[39;00m i \u001B[38;5;129;01min\u001B[39;00m \u001B[43minterval_indices\u001B[49m:\n\u001B[1;32m     55\u001B[0m     i \u001B[38;5;241m=\u001B[39m \u001B[38;5;28mint\u001B[39m(i)\n\u001B[1;32m     56\u001B[0m     interval \u001B[38;5;241m=\u001B[39m df[target_attr]\u001B[38;5;241m.\u001B[39miloc[i:i \u001B[38;5;241m+\u001B[39m interval_length]\u001B[38;5;241m.\u001B[39mto_numpy()\n",
      "File \u001B[0;32m~/.local/share/JetBrains/Toolbox/apps/PyCharm-P/ch-0/232.10072.31/plugins/python/helpers/pydev/_pydevd_bundle/pydevd_frame.py:880\u001B[0m, in \u001B[0;36mPyDBFrame.trace_dispatch\u001B[0;34m(self, frame, event, arg)\u001B[0m\n\u001B[1;32m    877\u001B[0m             stop \u001B[38;5;241m=\u001B[39m \u001B[38;5;28;01mFalse\u001B[39;00m\n\u001B[1;32m    879\u001B[0m \u001B[38;5;28;01mif\u001B[39;00m plugin_stop:\n\u001B[0;32m--> 880\u001B[0m     stopped_on_plugin \u001B[38;5;241m=\u001B[39m \u001B[43mplugin_manager\u001B[49m\u001B[38;5;241;43m.\u001B[39;49m\u001B[43mstop\u001B[49m\u001B[43m(\u001B[49m\u001B[43mmain_debugger\u001B[49m\u001B[43m,\u001B[49m\u001B[43m \u001B[49m\u001B[43mframe\u001B[49m\u001B[43m,\u001B[49m\u001B[43m \u001B[49m\u001B[43mevent\u001B[49m\u001B[43m,\u001B[49m\u001B[43m \u001B[49m\u001B[38;5;28;43mself\u001B[39;49m\u001B[38;5;241;43m.\u001B[39;49m\u001B[43m_args\u001B[49m\u001B[43m,\u001B[49m\u001B[43m \u001B[49m\u001B[43mstop_info\u001B[49m\u001B[43m,\u001B[49m\u001B[43m \u001B[49m\u001B[43marg\u001B[49m\u001B[43m,\u001B[49m\u001B[43m \u001B[49m\u001B[43mstep_cmd\u001B[49m\u001B[43m)\u001B[49m\n\u001B[1;32m    881\u001B[0m \u001B[38;5;28;01melif\u001B[39;00m stop:\n\u001B[1;32m    882\u001B[0m     \u001B[38;5;28;01mif\u001B[39;00m is_line:\n",
      "File \u001B[0;32m~/.local/share/JetBrains/Toolbox/apps/PyCharm-P/ch-0/232.10072.31/plugins/python/helpers-pro/jupyter_debug/pydev_jupyter_plugin.py:169\u001B[0m, in \u001B[0;36mstop\u001B[0;34m(plugin, pydb, frame, event, args, stop_info, arg, step_cmd)\u001B[0m\n\u001B[1;32m    167\u001B[0m     frame \u001B[38;5;241m=\u001B[39m suspend_jupyter(main_debugger, thread, frame, step_cmd)\n\u001B[1;32m    168\u001B[0m     \u001B[38;5;28;01mif\u001B[39;00m frame:\n\u001B[0;32m--> 169\u001B[0m         \u001B[43mmain_debugger\u001B[49m\u001B[38;5;241;43m.\u001B[39;49m\u001B[43mdo_wait_suspend\u001B[49m\u001B[43m(\u001B[49m\u001B[43mthread\u001B[49m\u001B[43m,\u001B[49m\u001B[43m \u001B[49m\u001B[43mframe\u001B[49m\u001B[43m,\u001B[49m\u001B[43m \u001B[49m\u001B[43mevent\u001B[49m\u001B[43m,\u001B[49m\u001B[43m \u001B[49m\u001B[43marg\u001B[49m\u001B[43m)\u001B[49m\n\u001B[1;32m    170\u001B[0m         \u001B[38;5;28;01mreturn\u001B[39;00m \u001B[38;5;28;01mTrue\u001B[39;00m\n\u001B[1;32m    171\u001B[0m \u001B[38;5;28;01mreturn\u001B[39;00m \u001B[38;5;28;01mFalse\u001B[39;00m\n",
      "File \u001B[0;32m~/.local/share/JetBrains/Toolbox/apps/PyCharm-P/ch-0/232.10072.31/plugins/python/helpers/pydev/pydevd.py:1160\u001B[0m, in \u001B[0;36mPyDB.do_wait_suspend\u001B[0;34m(self, thread, frame, event, arg, send_suspend_message, is_unhandled_exception)\u001B[0m\n\u001B[1;32m   1157\u001B[0m         from_this_thread\u001B[38;5;241m.\u001B[39mappend(frame_id)\n\u001B[1;32m   1159\u001B[0m \u001B[38;5;28;01mwith\u001B[39;00m \u001B[38;5;28mself\u001B[39m\u001B[38;5;241m.\u001B[39m_threads_suspended_single_notification\u001B[38;5;241m.\u001B[39mnotify_thread_suspended(thread_id, stop_reason):\n\u001B[0;32m-> 1160\u001B[0m     \u001B[38;5;28;43mself\u001B[39;49m\u001B[38;5;241;43m.\u001B[39;49m\u001B[43m_do_wait_suspend\u001B[49m\u001B[43m(\u001B[49m\u001B[43mthread\u001B[49m\u001B[43m,\u001B[49m\u001B[43m \u001B[49m\u001B[43mframe\u001B[49m\u001B[43m,\u001B[49m\u001B[43m \u001B[49m\u001B[43mevent\u001B[49m\u001B[43m,\u001B[49m\u001B[43m \u001B[49m\u001B[43marg\u001B[49m\u001B[43m,\u001B[49m\u001B[43m \u001B[49m\u001B[43msuspend_type\u001B[49m\u001B[43m,\u001B[49m\u001B[43m \u001B[49m\u001B[43mfrom_this_thread\u001B[49m\u001B[43m)\u001B[49m\n",
      "File \u001B[0;32m~/.local/share/JetBrains/Toolbox/apps/PyCharm-P/ch-0/232.10072.31/plugins/python/helpers/pydev/pydevd.py:1175\u001B[0m, in \u001B[0;36mPyDB._do_wait_suspend\u001B[0;34m(self, thread, frame, event, arg, suspend_type, from_this_thread)\u001B[0m\n\u001B[1;32m   1172\u001B[0m             \u001B[38;5;28mself\u001B[39m\u001B[38;5;241m.\u001B[39m_call_mpl_hook()\n\u001B[1;32m   1174\u001B[0m         \u001B[38;5;28mself\u001B[39m\u001B[38;5;241m.\u001B[39mprocess_internal_commands()\n\u001B[0;32m-> 1175\u001B[0m         \u001B[43mtime\u001B[49m\u001B[38;5;241;43m.\u001B[39;49m\u001B[43msleep\u001B[49m\u001B[43m(\u001B[49m\u001B[38;5;241;43m0.01\u001B[39;49m\u001B[43m)\u001B[49m\n\u001B[1;32m   1177\u001B[0m \u001B[38;5;28mself\u001B[39m\u001B[38;5;241m.\u001B[39mcancel_async_evaluation(get_current_thread_id(thread), \u001B[38;5;28mstr\u001B[39m(\u001B[38;5;28mid\u001B[39m(frame)))\n\u001B[1;32m   1179\u001B[0m \u001B[38;5;66;03m# process any stepping instructions\u001B[39;00m\n",
      "\u001B[0;31mKeyboardInterrupt\u001B[0m: "
     ]
    }
   ],
   "source": [
    "get_intervals(res[-1])"
   ],
   "metadata": {
    "collapsed": false,
    "ExecuteTime": {
     "end_time": "2024-03-27T08:53:58.631485743Z",
     "start_time": "2024-03-27T08:51:26.463709384Z"
    }
   }
  },
  {
   "cell_type": "code",
   "execution_count": 17,
   "metadata": {
    "ExecuteTime": {
     "end_time": "2024-03-27T06:24:33.307888958Z",
     "start_time": "2024-03-27T06:24:33.258396140Z"
    }
   },
   "outputs": [
    {
     "data": {
      "text/plain": "((15, 14), 15)"
     },
     "execution_count": 17,
     "metadata": {},
     "output_type": "execute_result"
    }
   ],
   "source": [
    "df_ema = pd.read_csv('Data/In-lab/P22/labeledfeatures.csv')\n",
    "ema, activities = get_ema(df_ema)\n",
    "ema.shape, activities.__len__()"
   ]
  },
  {
   "cell_type": "code",
   "execution_count": 18,
   "metadata": {
    "ExecuteTime": {
     "end_time": "2024-03-27T06:24:33.951201317Z",
     "start_time": "2024-03-27T06:24:33.938741318Z"
    }
   },
   "outputs": [
    {
     "data": {
      "text/plain": "['TSST_prep',\n 'TSST_speech',\n 'TSST_mentalSub',\n 'IceBucket',\n 'Rest1',\n 'Stroop',\n 'Rest2',\n 'SocialCon',\n 'Rest3',\n 'Rest4',\n 'Sing-a-song',\n 'Rest5',\n 'Game',\n 'Rest6',\n 'Eating']"
     },
     "execution_count": 18,
     "metadata": {},
     "output_type": "execute_result"
    }
   ],
   "source": [
    "activities"
   ]
  },
  {
   "cell_type": "code",
   "execution_count": null,
   "metadata": {},
   "outputs": [],
   "source": []
  }
 ],
 "metadata": {
  "kernelspec": {
   "display_name": "Python 3",
   "language": "python",
   "name": "python3"
  },
  "language_info": {
   "codemirror_mode": {
    "name": "ipython",
    "version": 3
   },
   "file_extension": ".py",
   "mimetype": "text/x-python",
   "name": "python",
   "nbconvert_exporter": "python",
   "pygments_lexer": "ipython3",
   "version": "3.10.12"
  }
 },
 "nbformat": 4,
 "nbformat_minor": 2
}
