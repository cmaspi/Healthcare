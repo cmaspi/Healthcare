{
 "cells": [
  {
   "cell_type": "code",
   "execution_count": 1,
   "id": "initial_id",
   "metadata": {
    "collapsed": true,
    "ExecuteTime": {
     "end_time": "2024-03-29T08:24:31.372248661Z",
     "start_time": "2024-03-29T08:24:30.653173900Z"
    }
   },
   "outputs": [],
   "source": [
    "import numpy as np\n",
    "import matplotlib.pyplot as plt\n",
    "import os\n",
    "import pandas as pd\n",
    "from typing import List"
   ]
  },
  {
   "cell_type": "code",
   "execution_count": 2,
   "outputs": [],
   "source": [
    "parent_dir = './Data/In-lab/'\n",
    "paths = np.array(list(os.listdir(parent_dir)))\n",
    "np.random.shuffle(paths)\n",
    "training_paths = paths[:-4]\n",
    "validation_paths = paths[-4:]\n",
    "\n",
    "def load_data_from_volunteer(path:str):\n",
    "    df = pd.read_csv(path.rstrip('/')+'/labeledfeatures.csv')\n",
    "    df = df[~df['EventType'].isna()]\n",
    "    df = df.loc[:, 'mean':\"EventType\"]\n",
    "    label_map = {r'[.]*[Rr][Ee][Ss][Tt][.]*': 0,\n",
    "                 r'[.]*': 1}\n",
    "    df['EventType'] = df['EventType'].replace(regex=label_map)\n",
    "    return df.to_numpy()\n",
    "\n",
    "\n",
    "def load_data(paths: List[str]):\n",
    "    data = []\n",
    "    for path in paths:\n",
    "        data.append(load_data_from_volunteer(parent_dir + path))\n",
    "    return np.concatenate(data, axis=0)\n",
    "\n",
    "trainX = load_data(training_paths)\n",
    "valX = load_data(validation_paths)\n",
    "\n",
    "trainX, trainY = trainX[:, :-1], trainX[:, -1]\n",
    "valX, valY = valX[:, :-1], valX[:, -1]"
   ],
   "metadata": {
    "collapsed": false,
    "ExecuteTime": {
     "end_time": "2024-03-29T08:24:31.506397126Z",
     "start_time": "2024-03-29T08:24:31.418197312Z"
    }
   },
   "id": "84a4122a1ae51f35"
  },
  {
   "cell_type": "code",
   "execution_count": 3,
   "outputs": [],
   "source": [
    "from sklearn.metrics import accuracy_score\n",
    "from sklearn.preprocessing import StandardScaler\n",
    "\n",
    "scaler = StandardScaler().fit(trainX)\n",
    "trainX = scaler.transform(trainX)\n",
    "valX = scaler.transform(valX)\n"
   ],
   "metadata": {
    "collapsed": false,
    "ExecuteTime": {
     "end_time": "2024-03-29T08:24:31.896039190Z",
     "start_time": "2024-03-29T08:24:31.508781377Z"
    }
   },
   "id": "960901db4c727736"
  },
  {
   "cell_type": "code",
   "execution_count": 4,
   "outputs": [
    {
     "name": "stdout",
     "output_type": "stream",
     "text": [
      "Training Accuracy: 0.7455882352941177 | Validation Accuracy: 0.6506550218340611\n"
     ]
    }
   ],
   "source": [
    "from sklearn.svm import SVC\n",
    "\n",
    "\n",
    "svm_clf = SVC()\n",
    "svm_clf.fit(trainX, trainY)\n",
    "pred_train_y = svm_clf.predict(trainX)\n",
    "pred_val_y = svm_clf.predict(valX)\n",
    "\n",
    "acc_train = accuracy_score(trainY, pred_train_y)\n",
    "acc_val = accuracy_score(valY, pred_val_y)\n",
    "\n",
    "print(f'Training Accuracy: {acc_train} | Validation Accuracy: {acc_val}')"
   ],
   "metadata": {
    "collapsed": false,
    "ExecuteTime": {
     "end_time": "2024-03-29T08:24:32.075074789Z",
     "start_time": "2024-03-29T08:24:31.898378669Z"
    }
   },
   "id": "f3809025db124a58"
  },
  {
   "cell_type": "code",
   "execution_count": 5,
   "outputs": [
    {
     "name": "stdout",
     "output_type": "stream",
     "text": [
      "Training Accuracy: 0.8220588235294117 | Validation Accuracy: 0.6703056768558951\n"
     ]
    }
   ],
   "source": [
    "from sklearn.neighbors import KNeighborsClassifier\n",
    "\n",
    "\n",
    "knn_clf = KNeighborsClassifier()\n",
    "knn_clf.fit(trainX, trainY)\n",
    "pred_train_y = knn_clf.predict(trainX)\n",
    "pred_val_y = knn_clf.predict(valX)\n",
    "\n",
    "acc_train = accuracy_score(trainY, pred_train_y)\n",
    "acc_val = accuracy_score(valY, pred_val_y)\n",
    "\n",
    "print(f'Training Accuracy: {acc_train} | Validation Accuracy: {acc_val}')"
   ],
   "metadata": {
    "collapsed": false,
    "ExecuteTime": {
     "end_time": "2024-03-29T08:24:32.194364846Z",
     "start_time": "2024-03-29T08:24:32.077943768Z"
    }
   },
   "id": "84696f6b07db7930"
  },
  {
   "cell_type": "code",
   "execution_count": 6,
   "outputs": [
    {
     "name": "stdout",
     "output_type": "stream",
     "text": [
      "Training Accuracy: 0.7235294117647059 | Validation Accuracy: 0.648471615720524\n"
     ]
    },
    {
     "name": "stderr",
     "output_type": "stream",
     "text": [
      "/home/cmaspi/.local/lib/python3.10/site-packages/sklearn/linear_model/_logistic.py:458: ConvergenceWarning: lbfgs failed to converge (status=1):\n",
      "STOP: TOTAL NO. of ITERATIONS REACHED LIMIT.\n",
      "\n",
      "Increase the number of iterations (max_iter) or scale the data as shown in:\n",
      "    https://scikit-learn.org/stable/modules/preprocessing.html\n",
      "Please also refer to the documentation for alternative solver options:\n",
      "    https://scikit-learn.org/stable/modules/linear_model.html#logistic-regression\n",
      "  n_iter_i = _check_optimize_result(\n"
     ]
    }
   ],
   "source": [
    "from sklearn.linear_model import LogisticRegression\n",
    "\n",
    "\n",
    "LR_clf = LogisticRegression()\n",
    "LR_clf.fit(trainX, trainY)\n",
    "pred_train_y = LR_clf.predict(trainX)\n",
    "pred_val_y = LR_clf.predict(valX)\n",
    "\n",
    "acc_train = accuracy_score(trainY, pred_train_y)\n",
    "acc_val = accuracy_score(valY, pred_val_y)\n",
    "\n",
    "print(f'Training Accuracy: {acc_train} | Validation Accuracy: {acc_val}')"
   ],
   "metadata": {
    "collapsed": false,
    "ExecuteTime": {
     "end_time": "2024-03-29T08:24:32.245566585Z",
     "start_time": "2024-03-29T08:24:32.192752320Z"
    }
   },
   "id": "4bff2a08cc722bdf"
  },
  {
   "cell_type": "code",
   "execution_count": 8,
   "outputs": [
    {
     "name": "stdout",
     "output_type": "stream",
     "text": [
      "Training Accuracy: 1.0 | Validation Accuracy: 0.6506550218340611\n"
     ]
    }
   ],
   "source": [
    "from sklearn.ensemble import RandomForestClassifier\n",
    "\n",
    "\n",
    "rf_clf = RandomForestClassifier()\n",
    "rf_clf.fit(trainX, trainY)\n",
    "pred_train_y = rf_clf.predict(trainX)\n",
    "pred_val_y = rf_clf.predict(valX)\n",
    "\n",
    "acc_train = accuracy_score(trainY, pred_train_y)\n",
    "acc_val = accuracy_score(valY, pred_val_y)\n",
    "\n",
    "print(f'Training Accuracy: {acc_train} | Validation Accuracy: {acc_val}')"
   ],
   "metadata": {
    "collapsed": false,
    "ExecuteTime": {
     "end_time": "2024-03-29T08:25:15.602737830Z",
     "start_time": "2024-03-29T08:25:15.089504807Z"
    }
   },
   "id": "9ac4efa8ac535306"
  },
  {
   "cell_type": "code",
   "execution_count": null,
   "outputs": [],
   "source": [],
   "metadata": {
    "collapsed": false
   },
   "id": "ded75b0af5e893a"
  }
 ],
 "metadata": {
  "kernelspec": {
   "display_name": "Python 3",
   "language": "python",
   "name": "python3"
  },
  "language_info": {
   "codemirror_mode": {
    "name": "ipython",
    "version": 2
   },
   "file_extension": ".py",
   "mimetype": "text/x-python",
   "name": "python",
   "nbconvert_exporter": "python",
   "pygments_lexer": "ipython2",
   "version": "2.7.6"
  }
 },
 "nbformat": 4,
 "nbformat_minor": 5
}
