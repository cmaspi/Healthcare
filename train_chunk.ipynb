{
 "cells": [
  {
   "cell_type": "code",
   "execution_count": 1,
   "outputs": [
    {
     "name": "stderr",
     "output_type": "stream",
     "text": [
      "2024-04-06 10:09:03.740978: I tensorflow/core/platform/cpu_feature_guard.cc:193] This TensorFlow binary is optimized with oneAPI Deep Neural Network Library (oneDNN) to use the following CPU instructions in performance-critical operations:  AVX2 FMA\n",
      "To enable them in other operations, rebuild TensorFlow with the appropriate compiler flags.\n"
     ]
    }
   ],
   "source": [
    "from preprocessing import *\n",
    "import numpy as np\n",
    "import matplotlib.pyplot as plt\n",
    "import os\n",
    "from tqdm import tqdm\n",
    "import tensorflow as tf\n",
    "from sklearn.model_selection import train_test_split"
   ],
   "metadata": {
    "collapsed": false,
    "ExecuteTime": {
     "end_time": "2024-04-06T04:39:05.252419995Z",
     "start_time": "2024-04-06T04:39:03.678624966Z"
    }
   },
   "id": "initial_id"
  },
  {
   "cell_type": "markdown",
   "source": [
    "parent_dir = './Data/In-lab/'\n",
    "paths = sorted(list(os.listdir(parent_dir)))\n",
    "\n",
    "data = []\n",
    "interval_duration = 1\n",
    "vec_size = int(15_000 * interval_duration)\n",
    "\n",
    "for path in tqdm(paths):\n",
    "    temp = get_data(parent_dir+path, interval_duration=interval_duration)\n",
    "    dataX = temp[:, :vec_size].astype(float)    \n",
    "    remaining = temp[:, vec_size:]\n",
    "    # # z score normalization\n",
    "    # dataX -= dataX.mean()\n",
    "    # dataX /= np.std(dataX)\n",
    "    # 0-1 normalization\n",
    "    dataX -= dataX.min()\n",
    "    dataX /= dataX.max()\n",
    "    temp = np.concatenate([dataX, remaining], axis=1)\n",
    "    data.append(temp)\n",
    "\n",
    "\n",
    "data = np.concatenate(data, axis=0)\n",
    "\n",
    "\n",
    "def unison_shuffled_copies(a, b):\n",
    "    assert len(a) == len(b)\n",
    "    p = np.random.permutation(len(a))\n",
    "    return a[p], b[p]\n",
    "\n",
    "\n",
    "dataX, dataY = data[:,:vec_size].astype(float), data[:,-1].astype(float)\n",
    "trainX, valX, trainY, valY = train_test_split(dataX, dataY)"
   ],
   "metadata": {
    "collapsed": false
   },
   "id": "f10393a060be9931"
  },
  {
   "cell_type": "code",
   "execution_count": 2,
   "outputs": [
    {
     "name": "stderr",
     "output_type": "stream",
     "text": [
      "100%|██████████| 12/12 [00:04<00:00,  2.49it/s]\n",
      "100%|██████████| 4/4 [00:01<00:00,  2.36it/s]\n"
     ]
    }
   ],
   "source": [
    "parent_dir = './Data/In-lab/'\n",
    "paths = sorted(list(os.listdir(parent_dir)))\n",
    "paths = np.array(paths)\n",
    "np.random.shuffle(paths)\n",
    "training_paths = paths[:-4]\n",
    "validation_paths = paths[-4:]\n",
    "interval_duration = 0.25\n",
    "\n",
    "\n",
    "def unison_shuffled_copies(a, b):\n",
    "    assert len(a) == len(b)\n",
    "    p = np.random.permutation(len(a))\n",
    "    return a[p], b[p]\n",
    "\n",
    "\n",
    "def return_dataset(paths):\n",
    "    data = []\n",
    "    activities_list = []\n",
    "    labels_list = []\n",
    "    ema_list = []\n",
    "    for path in tqdm(paths):\n",
    "        dataX, ema, labels, activities = get_data_activity_chunks(parent_dir+path)\n",
    "        data.extend(dataX)\n",
    "        ema_list.append(ema)\n",
    "        labels_list.append(labels)\n",
    "        activities_list.append(activities)\n",
    "\n",
    "    return data, np.concatenate(ema_list, axis=0), np.concatenate(labels_list, axis=0), np.concatenate(activities_list, axis=0) \n",
    "\n",
    "\n",
    "trainX, trainEMA, trainY, trainActivities = return_dataset(training_paths)\n",
    "valX, valEMA, valY, valActivities = return_dataset(validation_paths)"
   ],
   "metadata": {
    "collapsed": false,
    "ExecuteTime": {
     "end_time": "2024-04-06T04:39:11.785658982Z",
     "start_time": "2024-04-06T04:39:05.258708937Z"
    }
   },
   "id": "d4674d676edb0190"
  },
  {
   "cell_type": "code",
   "execution_count": 3,
   "outputs": [
    {
     "name": "stdout",
     "output_type": "stream",
     "text": [
      "180\n",
      "74943\n",
      "74942\n",
      "59937\n"
     ]
    }
   ],
   "source": [
    "print(len(trainX))\n",
    "print(len(trainX[0]))\n",
    "print(len(trainX[1]))\n",
    "print(len(trainX[10]))\n"
   ],
   "metadata": {
    "collapsed": false,
    "ExecuteTime": {
     "end_time": "2024-04-06T04:39:11.785985223Z",
     "start_time": "2024-04-06T04:39:11.782796156Z"
    }
   },
   "id": "fc44887f7074d8a6"
  },
  {
   "cell_type": "code",
   "execution_count": 4,
   "outputs": [
    {
     "data": {
      "text/plain": "(180, (74943,), (180,), (180, 14), (180,))"
     },
     "execution_count": 4,
     "metadata": {},
     "output_type": "execute_result"
    }
   ],
   "source": [
    "len(trainX), trainX[0].shape, trainY.shape, trainEMA.shape, trainActivities.shape"
   ],
   "metadata": {
    "collapsed": false,
    "ExecuteTime": {
     "end_time": "2024-04-06T04:39:11.838030213Z",
     "start_time": "2024-04-06T04:39:11.786084890Z"
    }
   },
   "id": "d8642c02d555bbe2"
  },
  {
   "cell_type": "markdown",
   "source": [
    "plt.figure(figsize=(20, 6))\n",
    "plt.plot(np.arange(trainX[0, :1000].size), trainX[0, :1000])\n",
    "plt.show()"
   ],
   "metadata": {
    "collapsed": false
   },
   "id": "fb2359c2480384e5"
  },
  {
   "cell_type": "code",
   "execution_count": 5,
   "outputs": [],
   "source": [
    "from model import get_model\n",
    "import tensorflow.keras as keras\n"
   ],
   "metadata": {
    "collapsed": false,
    "ExecuteTime": {
     "end_time": "2024-04-06T04:39:11.838654407Z",
     "start_time": "2024-04-06T04:39:11.804760135Z"
    }
   },
   "id": "350b26e00f155ef1"
  },
  {
   "cell_type": "code",
   "execution_count": 6,
   "outputs": [
    {
     "name": "stderr",
     "output_type": "stream",
     "text": [
      "2024-04-06 10:09:11.817356: I tensorflow/core/platform/cpu_feature_guard.cc:193] This TensorFlow binary is optimized with oneAPI Deep Neural Network Library (oneDNN) to use the following CPU instructions in performance-critical operations:  AVX2 FMA\n",
      "To enable them in other operations, rebuild TensorFlow with the appropriate compiler flags.\n"
     ]
    },
    {
     "name": "stdout",
     "output_type": "stream",
     "text": [
      "Model: \"model\"\n",
      "__________________________________________________________________________________________________\n",
      " Layer (type)                   Output Shape         Param #     Connected to                     \n",
      "==================================================================================================\n",
      " input_1 (InputLayer)           [(None, None, 1)]    0           []                               \n",
      "                                                                                                  \n",
      " conv1d (Conv1D)                (None, None, 4)      16          ['input_1[0][0]']                \n",
      "                                                                                                  \n",
      " conv1d_1 (Conv1D)              (None, None, 8)      104         ['conv1d[0][0]']                 \n",
      "                                                                                                  \n",
      " conv1d_2 (Conv1D)              (None, None, 16)     400         ['conv1d_1[0][0]']               \n",
      "                                                                                                  \n",
      " conv1d_3 (Conv1D)              (None, None, 32)     1568        ['conv1d_2[0][0]']               \n",
      "                                                                                                  \n",
      " conv1d_4 (Conv1D)              (None, None, 64)     6208        ['conv1d_3[0][0]']               \n",
      "                                                                                                  \n",
      " conv1d_5 (Conv1D)              (None, None, 128)    24704       ['conv1d_4[0][0]']               \n",
      "                                                                                                  \n",
      " global_average_pooling1d (Glob  (None, 128)         0           ['conv1d_5[0][0]']               \n",
      " alAveragePooling1D)                                                                              \n",
      "                                                                                                  \n",
      " global_max_pooling1d (GlobalMa  (None, 128)         0           ['conv1d_5[0][0]']               \n",
      " xPooling1D)                                                                                      \n",
      "                                                                                                  \n",
      " tf.concat (TFOpLambda)         (None, 256)          0           ['global_average_pooling1d[0][0]'\n",
      "                                                                 , 'global_max_pooling1d[0][0]']  \n",
      "                                                                                                  \n",
      " dense (Dense)                  (None, 24)           6168        ['tf.concat[0][0]']              \n",
      "                                                                                                  \n",
      " dropout (Dropout)              (None, 24)           0           ['dense[0][0]']                  \n",
      "                                                                                                  \n",
      " dense_1 (Dense)                (None, 4)            100         ['dropout[0][0]']                \n",
      "                                                                                                  \n",
      " dense_2 (Dense)                (None, 1)            5           ['dense_1[0][0]']                \n",
      "                                                                                                  \n",
      "==================================================================================================\n",
      "Total params: 39,273\n",
      "Trainable params: 39,273\n",
      "Non-trainable params: 0\n",
      "__________________________________________________________________________________________________\n"
     ]
    }
   ],
   "source": [
    "model = get_model(input_size=None)\n",
    "\n",
    "model.compile(optimizer=tf.keras.optimizers.Adam(learning_rate=1e-2),\n",
    "              loss=keras.losses.BinaryCrossentropy(),\n",
    "              metrics=['accuracy'],\n",
    "              )\n",
    "\n",
    "model.summary()\n"
   ],
   "metadata": {
    "collapsed": false,
    "ExecuteTime": {
     "end_time": "2024-04-06T04:39:12.059116536Z",
     "start_time": "2024-04-06T04:39:11.809397482Z"
    }
   },
   "id": "e477f12efecac5ab"
  },
  {
   "cell_type": "code",
   "execution_count": 7,
   "outputs": [],
   "source": [
    "from sklearn.utils import class_weight\n",
    "\n",
    "weights = class_weight.compute_class_weight('balanced',\n",
    "                                            classes=np.unique(trainY),\n",
    "                                            y=trainY)\n",
    "weights = {\n",
    "    0: weights[0],\n",
    "    1: weights[1]\n",
    "}\n"
   ],
   "metadata": {
    "collapsed": false,
    "ExecuteTime": {
     "end_time": "2024-04-06T04:39:12.060485683Z",
     "start_time": "2024-04-06T04:39:12.022635390Z"
    }
   },
   "id": "e5654c091b9a9f0a"
  },
  {
   "cell_type": "code",
   "execution_count": 8,
   "outputs": [],
   "source": [
    "reduce_lr = tf.keras.callbacks.ReduceLROnPlateau(monitor='val_loss', factor=0.5,\n",
    "                              patience=5, min_lr=1e-7, min_delta=1e-4)\n",
    "\n",
    "# history = model.fit(trainX,\n",
    "#                     trainY,\n",
    "#                     validation_data=(valX, valY),\n",
    "#                     verbose=1,\n",
    "#                     epochs=100,\n",
    "#                     class_weight=weights,\n",
    "#                     callbacks=[reduce_lr],\n",
    "#                     batch_size=1)"
   ],
   "metadata": {
    "collapsed": false,
    "ExecuteTime": {
     "end_time": "2024-04-06T04:39:12.061043106Z",
     "start_time": "2024-04-06T04:39:12.022794355Z"
    }
   },
   "id": "d5d9e5f7909e5d58"
  },
  {
   "cell_type": "code",
   "execution_count": 9,
   "outputs": [
    {
     "data": {
      "text/plain": "(74942,)"
     },
     "execution_count": 9,
     "metadata": {},
     "output_type": "execute_result"
    }
   ],
   "source": [
    "trainX[1].shape"
   ],
   "metadata": {
    "collapsed": false,
    "ExecuteTime": {
     "end_time": "2024-04-06T04:39:12.061600180Z",
     "start_time": "2024-04-06T04:39:12.023047678Z"
    }
   },
   "id": "db628462ede33942"
  },
  {
   "cell_type": "code",
   "execution_count": null,
   "outputs": [
    {
     "name": "stderr",
     "output_type": "stream",
     "text": [
      "  0%|          | 0/100 [00:00<?, ?it/s]"
     ]
    },
    {
     "name": "stdout",
     "output_type": "stream",
     "text": [
      "Epoch: 1\n",
      "accuracy: 0.5388888888888889, loss: 0.7245287598007255\n"
     ]
    },
    {
     "name": "stderr",
     "output_type": "stream",
     "text": [
      "  1%|          | 1/100 [00:25<42:23, 25.70s/it]"
     ]
    },
    {
     "name": "stdout",
     "output_type": "stream",
     "text": [
      "val accuracy: 0.4, val loss: 0.6936050852139791\n",
      "Epoch: 2\n",
      "accuracy: 0.37777777777777777, loss: 0.6943051725625992\n"
     ]
    },
    {
     "name": "stderr",
     "output_type": "stream",
     "text": [
      "  2%|▏         | 2/100 [00:48<39:23, 24.12s/it]"
     ]
    },
    {
     "name": "stdout",
     "output_type": "stream",
     "text": [
      "val accuracy: 0.4, val loss: 0.6943565915028255\n",
      "Epoch: 3\n",
      "accuracy: 0.37222222222222223, loss: 0.6943217989471223\n"
     ]
    },
    {
     "name": "stderr",
     "output_type": "stream",
     "text": [
      "  3%|▎         | 3/100 [01:11<38:08, 23.59s/it]"
     ]
    },
    {
     "name": "stdout",
     "output_type": "stream",
     "text": [
      "val accuracy: 0.4, val loss: 0.6941574354966481\n",
      "Epoch: 4\n",
      "accuracy: 0.3611111111111111, loss: 0.6942187147008048\n"
     ]
    },
    {
     "name": "stderr",
     "output_type": "stream",
     "text": [
      "  4%|▍         | 4/100 [01:34<37:28, 23.42s/it]"
     ]
    },
    {
     "name": "stdout",
     "output_type": "stream",
     "text": [
      "val accuracy: 0.4, val loss: 0.69415003657341\n",
      "Epoch: 5\n",
      "accuracy: 0.32222222222222224, loss: 0.6941473560200797\n"
     ]
    },
    {
     "name": "stderr",
     "output_type": "stream",
     "text": [
      "  5%|▌         | 5/100 [01:57<36:41, 23.18s/it]"
     ]
    },
    {
     "name": "stdout",
     "output_type": "stream",
     "text": [
      "val accuracy: 0.4, val loss: 0.6938316235939662\n",
      "Epoch: 6\n",
      "accuracy: 0.32222222222222224, loss: 0.694130672680007\n"
     ]
    },
    {
     "name": "stderr",
     "output_type": "stream",
     "text": [
      "  6%|▌         | 6/100 [02:20<36:02, 23.01s/it]"
     ]
    },
    {
     "name": "stdout",
     "output_type": "stream",
     "text": [
      "val accuracy: 0.4, val loss: 0.6938475439945857\n",
      "Epoch: 7\n",
      "accuracy: 0.35, loss: 0.6941559437248442\n"
     ]
    },
    {
     "name": "stderr",
     "output_type": "stream",
     "text": [
      "  7%|▋         | 7/100 [02:42<35:11, 22.71s/it]"
     ]
    },
    {
     "name": "stdout",
     "output_type": "stream",
     "text": [
      "val accuracy: 0.4, val loss: 0.6939234465360642\n",
      "Epoch: 8\n",
      "accuracy: 0.4444444444444444, loss: 1.921488799631023\n"
     ]
    },
    {
     "name": "stderr",
     "output_type": "stream",
     "text": [
      "  8%|▊         | 8/100 [03:04<34:30, 22.50s/it]"
     ]
    },
    {
     "name": "stdout",
     "output_type": "stream",
     "text": [
      "val accuracy: 0.6, val loss: 0.6746206750472387\n",
      "Epoch: 9\n",
      "accuracy: 0.5111111111111111, loss: 0.7050532887379328\n"
     ]
    },
    {
     "name": "stderr",
     "output_type": "stream",
     "text": [
      "  9%|▉         | 9/100 [03:26<34:03, 22.46s/it]"
     ]
    },
    {
     "name": "stdout",
     "output_type": "stream",
     "text": [
      "val accuracy: 0.4, val loss: 0.6939339101314544\n",
      "Epoch: 10\n",
      "accuracy: 0.40555555555555556, loss: 0.6974838680691189\n"
     ]
    },
    {
     "name": "stderr",
     "output_type": "stream",
     "text": [
      " 10%|█         | 10/100 [03:49<33:37, 22.41s/it]"
     ]
    },
    {
     "name": "stdout",
     "output_type": "stream",
     "text": [
      "val accuracy: 0.4, val loss: 0.6962535411119462\n",
      "Epoch: 11\n",
      "accuracy: 0.39444444444444443, loss: 0.6926494677861531\n"
     ]
    },
    {
     "name": "stderr",
     "output_type": "stream",
     "text": [
      " 11%|█         | 11/100 [04:11<33:07, 22.33s/it]"
     ]
    },
    {
     "name": "stdout",
     "output_type": "stream",
     "text": [
      "val accuracy: 0.4, val loss: 0.6943177610635758\n",
      "Epoch: 12\n",
      "accuracy: 0.5222222222222223, loss: 0.6966112699773577\n"
     ]
    },
    {
     "name": "stderr",
     "output_type": "stream",
     "text": [
      " 12%|█▏        | 12/100 [04:33<32:53, 22.43s/it]"
     ]
    },
    {
     "name": "stdout",
     "output_type": "stream",
     "text": [
      "val accuracy: 0.4, val loss: 0.6934152732292811\n",
      "Epoch: 13\n",
      "accuracy: 0.49444444444444446, loss: 0.6949922015269597\n"
     ]
    },
    {
     "name": "stderr",
     "output_type": "stream",
     "text": [
      " 13%|█▎        | 13/100 [04:56<32:39, 22.52s/it]"
     ]
    },
    {
     "name": "stdout",
     "output_type": "stream",
     "text": [
      "val accuracy: 0.4, val loss: 0.6954574833313624\n",
      "Epoch: 14\n",
      "accuracy: 0.3888888888888889, loss: 0.6952892382939656\n"
     ]
    },
    {
     "name": "stderr",
     "output_type": "stream",
     "text": [
      " 14%|█▍        | 14/100 [05:19<32:14, 22.49s/it]"
     ]
    },
    {
     "name": "stdout",
     "output_type": "stream",
     "text": [
      "val accuracy: 0.4, val loss: 0.6952664077281951\n",
      "Epoch: 15\n",
      "accuracy: 0.36666666666666664, loss: 0.6951450755198797\n"
     ]
    },
    {
     "name": "stderr",
     "output_type": "stream",
     "text": [
      " 15%|█▌        | 15/100 [05:41<31:51, 22.49s/it]"
     ]
    },
    {
     "name": "stdout",
     "output_type": "stream",
     "text": [
      "val accuracy: 0.4, val loss: 0.6954980333646138\n",
      "Epoch: 16\n",
      "accuracy: 0.4222222222222222, loss: 0.6943458169698715\n"
     ]
    },
    {
     "name": "stderr",
     "output_type": "stream",
     "text": [
      " 16%|█▌        | 16/100 [06:03<31:25, 22.44s/it]"
     ]
    },
    {
     "name": "stdout",
     "output_type": "stream",
     "text": [
      "val accuracy: 0.4, val loss: 0.6953518937031428\n",
      "Epoch: 17\n",
      "accuracy: 0.36666666666666664, loss: 0.6945157140493393\n"
     ]
    },
    {
     "name": "stderr",
     "output_type": "stream",
     "text": [
      " 17%|█▋        | 17/100 [06:26<31:01, 22.43s/it]"
     ]
    },
    {
     "name": "stdout",
     "output_type": "stream",
     "text": [
      "val accuracy: 0.4, val loss: 0.6953985214233398\n",
      "Epoch: 18\n",
      "accuracy: 0.4166666666666667, loss: 0.6941575179497401\n"
     ]
    },
    {
     "name": "stderr",
     "output_type": "stream",
     "text": [
      " 18%|█▊        | 18/100 [06:48<30:41, 22.45s/it]"
     ]
    },
    {
     "name": "stdout",
     "output_type": "stream",
     "text": [
      "val accuracy: 0.4, val loss: 0.6943459788958232\n",
      "Epoch: 19\n",
      "accuracy: 0.4388888888888889, loss: 0.6947490480211046\n"
     ]
    },
    {
     "name": "stderr",
     "output_type": "stream",
     "text": [
      " 19%|█▉        | 19/100 [07:11<30:28, 22.58s/it]"
     ]
    },
    {
     "name": "stdout",
     "output_type": "stream",
     "text": [
      "val accuracy: 0.4, val loss: 0.6960883369048436\n",
      "Epoch: 20\n"
     ]
    }
   ],
   "source": [
    "num_epochs = 100\n",
    "\n",
    "for epoch in tqdm(range(num_epochs)):\n",
    "    print(f'Epoch: {epoch+1}')\n",
    "    overall_loss, overall_acc = [], []\n",
    "    for i in range(len(trainX)):\n",
    "        dX, dY = trainX[i].reshape((1,) + trainX[i].shape + (1,)), trainY[i:i+1]\n",
    "        loss, acc = model.train_on_batch(dX, dY, class_weight=weights)\n",
    "        overall_acc.append(acc)\n",
    "        overall_loss.append(loss)\n",
    "    print(f'accuracy: {np.mean(overall_acc)}, loss: {np.mean(overall_loss)}')\n",
    "    \n",
    "    val_overall_loss, val_overall_acc = [], []    \n",
    "    for i in range(len(valX)):\n",
    "        dX, dY = valX[i].reshape((1,) + valX[i].shape + (1,)), valY[i:i+1]\n",
    "        loss, acc = model.test_on_batch(dX, dY)\n",
    "        val_overall_acc.append(acc)\n",
    "        val_overall_loss.append(loss)\n",
    "    print(f'val accuracy: {np.mean(val_overall_acc)}, val loss: {np.mean(val_overall_loss)}')\n",
    "    "
   ],
   "metadata": {
    "collapsed": false,
    "ExecuteTime": {
     "start_time": "2024-04-06T04:39:12.035373217Z"
    }
   },
   "id": "2abc4e70274069e6"
  },
  {
   "cell_type": "code",
   "execution_count": null,
   "outputs": [],
   "source": [],
   "metadata": {
    "collapsed": false
   },
   "id": "4ea1b6a3ee1ad114"
  }
 ],
 "metadata": {
  "kernelspec": {
   "display_name": "Python 3",
   "language": "python",
   "name": "python3"
  },
  "language_info": {
   "codemirror_mode": {
    "name": "ipython",
    "version": 2
   },
   "file_extension": ".py",
   "mimetype": "text/x-python",
   "name": "python",
   "nbconvert_exporter": "python",
   "pygments_lexer": "ipython2",
   "version": "2.7.6"
  }
 },
 "nbformat": 4,
 "nbformat_minor": 5
}
